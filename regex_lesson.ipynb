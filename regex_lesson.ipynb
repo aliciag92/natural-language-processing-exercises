{
 "cells": [
  {
   "cell_type": "markdown",
   "metadata": {},
   "source": [
    "# Regex\n",
    "\n",
    "- What is a regular expression?\n",
    "    - a language for describing regular text.\n",
    "    - a way to describe things like a series of digits followed by whitespace, followed by the letters a-z\n",
    "    - focusing on python-flavored regex here, but reg ex as a concept are larger in scope\n",
    "        - can be used inside of SQL (LIKE operator w/ wildcards)\n",
    "- When are regular expressions useful?\n",
    "    - when parsing regular text \n",
    "        - (parsing = extracting meaning from something)\n",
    "        - break text down to its parts (component pieces)\n",
    "    - structured (some sort) text\n",
    "    - data acquisition, data preparation, maybe even a bit in exploration. \n",
    "    - any time we deal w/ text data and anytime we manipulate text data\n",
    "    - can be simple + complex operations (can help quickly identify things, replacing whitespace) \n",
    "    - normalizing whitespace"
   ]
  },
  {
   "cell_type": "code",
   "execution_count": 1,
   "metadata": {},
   "outputs": [],
   "source": [
    "import pandas as pd\n",
    "import re"
   ]
  },
  {
   "cell_type": "code",
   "execution_count": 2,
   "metadata": {},
   "outputs": [],
   "source": [
    "log_file_lines = '''\n",
    "76.185.131.226 - - [11/May/2020:14:25:53 +0000] \"GET / HTTP/1.1\" 200 42 \"-\" \"python-requests/2.23.0\"\n",
    "76.185.131.226 - - [11/May/2020:16:25:46 +0000] \"GET / HTTP/1.1\" 200 42 \"-\" \"python-requests/2.23.0\"\n",
    "76.185.131.226 - - [11/May/2020:16:25:58 +0000] \"GET / HTTP/1.1\" 200 42 \"-\" \"Mozilla/5.0 (Macintosh; Intel Mac OS X 10_12_6) AppleWebKit/537.36 (KHTML, like Gecko) Chrome/81.0.4044.129 Safari/537.36\"\n",
    "76.185.131.226 - - [11/May/2020:16:25:58 +0000] \"GET /favicon.ico HTTP/1.1\" 200 162 \"https://python.zach.lol/\" \"Mozilla/5.0 (Macintosh; Intel Mac OS X 10_12_6) AppleWebKit/537.36 (KHTML, like Gecko) Chrome/81.0.4044.129 Safari/537.36\"\n",
    "104.5.217.57 - - [11/May/2020:16:26:27 +0000] \"GET / HTTP/1.1\" 200 42 \"-\" \"python-requests/2.23.0\"\n",
    "76.185.131.226 - - [11/May/2020:16:26:46 +0000] \"GET /documentation HTTP/1.1\" 200 348 \"-\" \"python-requests/2.23.0\"\n",
    "76.185.131.226 - - [11/May/2020:16:26:54 +0000] \"GET /documentation HTTP/1.1\" 200 348 \"-\" \"python-requests/2.23.0\"\n",
    "104.5.217.57 - - [11/May/2020:16:27:04 +0000] \"GET /documentation HTTP/1.1\" 200 348 \"-\" \"python-requests/2.23.0\"\n",
    "76.185.131.226 - - [11/May/2020:16:27:05 +0000] \"GET /documentation HTTP/1.1\" 200 348 \"-\" \"python-requests/2.23.0\"\n",
    "76.185.131.226 - - [11/May/2020:16:27:10 +0000] \"GET /documentation HTTP/1.1\" 200 348 \"-\" \"python-requests/2.23.0\"\n",
    "'''"
   ]
  },
  {
   "cell_type": "code",
   "execution_count": 3,
   "metadata": {},
   "outputs": [
    {
     "data": {
      "text/html": [
       "<div>\n",
       "<style scoped>\n",
       "    .dataframe tbody tr th:only-of-type {\n",
       "        vertical-align: middle;\n",
       "    }\n",
       "\n",
       "    .dataframe tbody tr th {\n",
       "        vertical-align: top;\n",
       "    }\n",
       "\n",
       "    .dataframe thead th {\n",
       "        text-align: right;\n",
       "    }\n",
       "</style>\n",
       "<table border=\"1\" class=\"dataframe\">\n",
       "  <thead>\n",
       "    <tr style=\"text-align: right;\">\n",
       "      <th></th>\n",
       "      <th>ip</th>\n",
       "      <th>timestamp</th>\n",
       "      <th>method</th>\n",
       "      <th>path</th>\n",
       "      <th>status</th>\n",
       "      <th>bytes_sent</th>\n",
       "      <th>referrer</th>\n",
       "      <th>user_agent</th>\n",
       "    </tr>\n",
       "  </thead>\n",
       "  <tbody>\n",
       "    <tr>\n",
       "      <th>0</th>\n",
       "      <td>76.185.131.226</td>\n",
       "      <td>11/May/2020:14:25:53 +0000</td>\n",
       "      <td>GET</td>\n",
       "      <td>/</td>\n",
       "      <td>200</td>\n",
       "      <td>42</td>\n",
       "      <td>-</td>\n",
       "      <td>python-requests/2.23.0</td>\n",
       "    </tr>\n",
       "    <tr>\n",
       "      <th>1</th>\n",
       "      <td>76.185.131.226</td>\n",
       "      <td>11/May/2020:16:25:46 +0000</td>\n",
       "      <td>GET</td>\n",
       "      <td>/</td>\n",
       "      <td>200</td>\n",
       "      <td>42</td>\n",
       "      <td>-</td>\n",
       "      <td>python-requests/2.23.0</td>\n",
       "    </tr>\n",
       "    <tr>\n",
       "      <th>2</th>\n",
       "      <td>76.185.131.226</td>\n",
       "      <td>11/May/2020:16:25:58 +0000</td>\n",
       "      <td>GET</td>\n",
       "      <td>/</td>\n",
       "      <td>200</td>\n",
       "      <td>42</td>\n",
       "      <td>-</td>\n",
       "      <td>Mozilla/5.0 (Macintosh; Intel Mac OS X 10_12_6...</td>\n",
       "    </tr>\n",
       "    <tr>\n",
       "      <th>3</th>\n",
       "      <td>76.185.131.226</td>\n",
       "      <td>11/May/2020:16:25:58 +0000</td>\n",
       "      <td>GET</td>\n",
       "      <td>/favicon.ico</td>\n",
       "      <td>200</td>\n",
       "      <td>162</td>\n",
       "      <td>https://python.zach.lol/</td>\n",
       "      <td>Mozilla/5.0 (Macintosh; Intel Mac OS X 10_12_6...</td>\n",
       "    </tr>\n",
       "    <tr>\n",
       "      <th>4</th>\n",
       "      <td>104.5.217.57</td>\n",
       "      <td>11/May/2020:16:26:27 +0000</td>\n",
       "      <td>GET</td>\n",
       "      <td>/</td>\n",
       "      <td>200</td>\n",
       "      <td>42</td>\n",
       "      <td>-</td>\n",
       "      <td>python-requests/2.23.0</td>\n",
       "    </tr>\n",
       "    <tr>\n",
       "      <th>5</th>\n",
       "      <td>76.185.131.226</td>\n",
       "      <td>11/May/2020:16:26:46 +0000</td>\n",
       "      <td>GET</td>\n",
       "      <td>/documentation</td>\n",
       "      <td>200</td>\n",
       "      <td>348</td>\n",
       "      <td>-</td>\n",
       "      <td>python-requests/2.23.0</td>\n",
       "    </tr>\n",
       "    <tr>\n",
       "      <th>6</th>\n",
       "      <td>76.185.131.226</td>\n",
       "      <td>11/May/2020:16:26:54 +0000</td>\n",
       "      <td>GET</td>\n",
       "      <td>/documentation</td>\n",
       "      <td>200</td>\n",
       "      <td>348</td>\n",
       "      <td>-</td>\n",
       "      <td>python-requests/2.23.0</td>\n",
       "    </tr>\n",
       "    <tr>\n",
       "      <th>7</th>\n",
       "      <td>104.5.217.57</td>\n",
       "      <td>11/May/2020:16:27:04 +0000</td>\n",
       "      <td>GET</td>\n",
       "      <td>/documentation</td>\n",
       "      <td>200</td>\n",
       "      <td>348</td>\n",
       "      <td>-</td>\n",
       "      <td>python-requests/2.23.0</td>\n",
       "    </tr>\n",
       "    <tr>\n",
       "      <th>8</th>\n",
       "      <td>76.185.131.226</td>\n",
       "      <td>11/May/2020:16:27:05 +0000</td>\n",
       "      <td>GET</td>\n",
       "      <td>/documentation</td>\n",
       "      <td>200</td>\n",
       "      <td>348</td>\n",
       "      <td>-</td>\n",
       "      <td>python-requests/2.23.0</td>\n",
       "    </tr>\n",
       "    <tr>\n",
       "      <th>9</th>\n",
       "      <td>76.185.131.226</td>\n",
       "      <td>11/May/2020:16:27:10 +0000</td>\n",
       "      <td>GET</td>\n",
       "      <td>/documentation</td>\n",
       "      <td>200</td>\n",
       "      <td>348</td>\n",
       "      <td>-</td>\n",
       "      <td>python-requests/2.23.0</td>\n",
       "    </tr>\n",
       "  </tbody>\n",
       "</table>\n",
       "</div>"
      ],
      "text/plain": [
       "               ip                   timestamp method            path status  \\\n",
       "0  76.185.131.226  11/May/2020:14:25:53 +0000    GET               /    200   \n",
       "1  76.185.131.226  11/May/2020:16:25:46 +0000    GET               /    200   \n",
       "2  76.185.131.226  11/May/2020:16:25:58 +0000    GET               /    200   \n",
       "3  76.185.131.226  11/May/2020:16:25:58 +0000    GET    /favicon.ico    200   \n",
       "4    104.5.217.57  11/May/2020:16:26:27 +0000    GET               /    200   \n",
       "5  76.185.131.226  11/May/2020:16:26:46 +0000    GET  /documentation    200   \n",
       "6  76.185.131.226  11/May/2020:16:26:54 +0000    GET  /documentation    200   \n",
       "7    104.5.217.57  11/May/2020:16:27:04 +0000    GET  /documentation    200   \n",
       "8  76.185.131.226  11/May/2020:16:27:05 +0000    GET  /documentation    200   \n",
       "9  76.185.131.226  11/May/2020:16:27:10 +0000    GET  /documentation    200   \n",
       "\n",
       "  bytes_sent                  referrer  \\\n",
       "0         42                         -   \n",
       "1         42                         -   \n",
       "2         42                         -   \n",
       "3        162  https://python.zach.lol/   \n",
       "4         42                         -   \n",
       "5        348                         -   \n",
       "6        348                         -   \n",
       "7        348                         -   \n",
       "8        348                         -   \n",
       "9        348                         -   \n",
       "\n",
       "                                          user_agent  \n",
       "0                             python-requests/2.23.0  \n",
       "1                             python-requests/2.23.0  \n",
       "2  Mozilla/5.0 (Macintosh; Intel Mac OS X 10_12_6...  \n",
       "3  Mozilla/5.0 (Macintosh; Intel Mac OS X 10_12_6...  \n",
       "4                             python-requests/2.23.0  \n",
       "5                             python-requests/2.23.0  \n",
       "6                             python-requests/2.23.0  \n",
       "7                             python-requests/2.23.0  \n",
       "8                             python-requests/2.23.0  \n",
       "9                             python-requests/2.23.0  "
      ]
     },
     "execution_count": 3,
     "metadata": {},
     "output_type": "execute_result"
    }
   ],
   "source": [
    "#turn the log_file_lines into a df\n",
    "regex = r'(?P<ip>.*?)\\s.*?\\[(?P<timestamp>.*?)\\]\\s+\"(?P<method>[A-Z]+)\\s(?P<path>.*?)\\sHTTP/1.1\"\\s(?P<status>\\d+)\\s(?P<bytes_sent>\\d+)\\s\"(?P<referrer>.*?)\"\\s\"(?P<user_agent>.*?)\"'\n",
    "regex = re.compile(regex,re.VERBOSE)\n",
    "\n",
    "lines = pd.Series(log_file_lines.strip().split('\\n'))\n",
    "lines.str.extract(regex)"
   ]
  },
  {
   "cell_type": "code",
   "execution_count": 4,
   "metadata": {},
   "outputs": [],
   "source": [
    "#regular expression module that is part of the python standard library\n",
    "import re "
   ]
  },
  {
   "cell_type": "markdown",
   "metadata": {},
   "source": [
    "### Functions from re module that allow us to apply regular expressions to text\n",
    "- **re.search**: shows a *single* match for a regex (like the first instance of the match)\n",
    "- **re.findall**: shows *ALL* the matches for a regex in a subject (shows all matches)"
   ]
  },
  {
   "cell_type": "markdown",
   "metadata": {},
   "source": [
    "***\n",
    "Side note:\n",
    "- r' - means raw. by convention we use raw strings as our regular expressions.\n",
    "- u - is for unicode"
   ]
  },
  {
   "cell_type": "code",
   "execution_count": 5,
   "metadata": {},
   "outputs": [
    {
     "data": {
      "text/plain": [
       "'a'"
      ]
     },
     "execution_count": 5,
     "metadata": {},
     "output_type": "execute_result"
    }
   ],
   "source": [
    "#raw string is different from a python string\n",
    "r'a'"
   ]
  },
  {
   "cell_type": "code",
   "execution_count": 6,
   "metadata": {},
   "outputs": [
    {
     "data": {
      "text/plain": [
       "'\\\\n'"
      ]
     },
     "execution_count": 6,
     "metadata": {},
     "output_type": "execute_result"
    }
   ],
   "source": [
    "#string is read as 2 characters: the backslash and the 'n'\n",
    "r\"\\n\""
   ]
  },
  {
   "cell_type": "code",
   "execution_count": 7,
   "metadata": {
    "scrolled": true
   },
   "outputs": [
    {
     "data": {
      "text/plain": [
       "2"
      ]
     },
     "execution_count": 7,
     "metadata": {},
     "output_type": "execute_result"
    }
   ],
   "source": [
    "#2 characters\n",
    "len(r\"\\n\")"
   ]
  },
  {
   "cell_type": "code",
   "execution_count": 8,
   "metadata": {},
   "outputs": [
    {
     "data": {
      "text/plain": [
       "'\\n'"
      ]
     },
     "execution_count": 8,
     "metadata": {},
     "output_type": "execute_result"
    }
   ],
   "source": [
    "#this is read as a new line character in python\n",
    "\"\\n\""
   ]
  },
  {
   "cell_type": "code",
   "execution_count": 9,
   "metadata": {},
   "outputs": [
    {
     "data": {
      "text/plain": [
       "1"
      ]
     },
     "execution_count": 9,
     "metadata": {},
     "output_type": "execute_result"
    }
   ],
   "source": [
    "#1 character\n",
    "len(\"\\n\")"
   ]
  },
  {
   "cell_type": "markdown",
   "metadata": {},
   "source": [
    "***"
   ]
  },
  {
   "cell_type": "markdown",
   "metadata": {},
   "source": [
    "## Literals\n",
    "- any character that matches itself (a-z, A-Z, 0-9); literals\n",
    "- any letter or number by itself will match literally that same thing in a subject that we're applying a regular expression to."
   ]
  },
  {
   "cell_type": "code",
   "execution_count": 10,
   "metadata": {},
   "outputs": [
    {
     "data": {
      "text/plain": [
       "<re.Match object; span=(0, 1), match='a'>"
      ]
     },
     "execution_count": 10,
     "metadata": {},
     "output_type": "execute_result"
    }
   ],
   "source": [
    "#generally, we have 2 variables: a regular expression and a subject (piece of text that we will apply the regexp to)\n",
    "regexp = r'a'\n",
    "subject = 'abc'\n",
    "\n",
    "#get back a match object that represents the result of applying regex to the text\n",
    "re.search(regexp, subject)"
   ]
  },
  {
   "cell_type": "markdown",
   "metadata": {},
   "source": [
    "- `match` is the 'a' character\n",
    "- `span` is from 0 to 1\n",
    "- meaning that match is from index [0] to index [1] in the subject"
   ]
  },
  {
   "cell_type": "markdown",
   "metadata": {},
   "source": [
    "<div style=\"background-color: rgba(0, 100, 200, .1); padding: 1em 3em; border-radius: 5px; border: 1px solid black\">\n",
    "    <div style=\"font-weight: bold; font-size: 1.2em; border-bottom: 1px dashed black; padding-bottom: .5em;\">\n",
    "        Mini Exercise\n",
    "    </div>\n",
    "    <p>Use the cell above to start experimenting with regular expressions.</p>\n",
    "    <ol>\n",
    "        <li>Change your regular expression to match the literal character \"b\". What do you notice?</li>\n",
    "            - span=(1, 2), match='b'\n",
    "        <li>Change your regular expression to match the literal string \"ab\". What do you notice?</li>\n",
    "        - span=(0, 2), match='ab'\n",
    "        <li>Change your regular expression to match the literal \"d\". What do you notice?</li>\n",
    "        - Nothing comes out since there is no 'd' in the subject.\n",
    "        <li>Use <code>re.findall</code> instead of <code>re.search</code>. How do the results differ?</li>\n",
    "        - [] Empty brackets since there is no 'd' in the subject.\n",
    "        <li>Change your regular expression to just the \".\" character. What are the results?</li>\n",
    "        - ['a', 'b', 'c'] with .findall\n",
    "  <p>- span=(0, 1), match='a' with .search</p>\n",
    "        <p>the '.' is a metacharacter that matches anything</p>\n",
    "    </ol>\n",
    "</div>"
   ]
  },
  {
   "cell_type": "code",
   "execution_count": 11,
   "metadata": {},
   "outputs": [
    {
     "data": {
      "text/plain": [
       "<re.Match object; span=(1, 2), match='b'>"
      ]
     },
     "execution_count": 11,
     "metadata": {},
     "output_type": "execute_result"
    }
   ],
   "source": [
    "#1. Change your regular expression to match the literal character \"b\". \n",
    "regexp = r'b'\n",
    "subject = 'abc'\n",
    "\n",
    "re.search(regexp, subject)"
   ]
  },
  {
   "cell_type": "code",
   "execution_count": 12,
   "metadata": {},
   "outputs": [
    {
     "data": {
      "text/plain": [
       "<re.Match object; span=(0, 2), match='ab'>"
      ]
     },
     "execution_count": 12,
     "metadata": {},
     "output_type": "execute_result"
    }
   ],
   "source": [
    "#2. Change your regular expression to match the literal string \"ab\". \n",
    "regexp = r'ab'\n",
    "subject = 'abc'\n",
    "\n",
    "re.search(regexp, subject)\n"
   ]
  },
  {
   "cell_type": "code",
   "execution_count": 13,
   "metadata": {},
   "outputs": [],
   "source": [
    "#3. Change your regular expression to match the literal \"d\". \n",
    "regexp = r'd'\n",
    "subject = 'abc'\n",
    "\n",
    "re.search(regexp, subject)"
   ]
  },
  {
   "cell_type": "code",
   "execution_count": 14,
   "metadata": {},
   "outputs": [
    {
     "data": {
      "text/plain": [
       "[]"
      ]
     },
     "execution_count": 14,
     "metadata": {},
     "output_type": "execute_result"
    }
   ],
   "source": [
    "#4. Use re.findall instead of re.search. \n",
    "regexp = r'd'\n",
    "subject = 'abc'\n",
    "\n",
    "re.findall(regexp, subject)"
   ]
  },
  {
   "cell_type": "code",
   "execution_count": 15,
   "metadata": {},
   "outputs": [
    {
     "data": {
      "text/plain": [
       "['a']"
      ]
     },
     "execution_count": 15,
     "metadata": {},
     "output_type": "execute_result"
    }
   ],
   "source": [
    "#switch to findall and it gives a list w/ a single string b/c it will produce all the matches in the string\n",
    "regexp = r'a'\n",
    "subject = 'abc'\n",
    "\n",
    "re.findall(regexp, subject)"
   ]
  },
  {
   "cell_type": "code",
   "execution_count": 16,
   "metadata": {},
   "outputs": [
    {
     "data": {
      "text/plain": [
       "['a', 'a']"
      ]
     },
     "execution_count": 16,
     "metadata": {},
     "output_type": "execute_result"
    }
   ],
   "source": [
    "#example how it produces all the matches in the string\n",
    "regexp = r'a'\n",
    "subject = 'abc abc'\n",
    "\n",
    "re.findall(regexp, subject)"
   ]
  },
  {
   "cell_type": "code",
   "execution_count": 17,
   "metadata": {},
   "outputs": [
    {
     "data": {
      "text/plain": [
       "['a', 'b', 'c']"
      ]
     },
     "execution_count": 17,
     "metadata": {},
     "output_type": "execute_result"
    }
   ],
   "source": [
    "#5. Change your regular expression to just the \".\" character. \n",
    "regexp = r'.'\n",
    "subject = 'abc'\n",
    "\n",
    "re.findall(regexp, subject)"
   ]
  },
  {
   "cell_type": "code",
   "execution_count": 18,
   "metadata": {},
   "outputs": [
    {
     "data": {
      "text/plain": [
       "<re.Match object; span=(0, 1), match='a'>"
      ]
     },
     "execution_count": 18,
     "metadata": {},
     "output_type": "execute_result"
    }
   ],
   "source": [
    "#regular expression to just the \".\" character w/ search func \n",
    "regexp = r'.'\n",
    "subject = 'abc'\n",
    "\n",
    "re.search(regexp, subject)"
   ]
  },
  {
   "cell_type": "markdown",
   "metadata": {},
   "source": [
    "### Metacharacters: have a special meaning and match a whole class of character\n",
    "\n",
    "- `.`: anything (matches any character in the subject)\n",
    "- `\\w`: any word characters (alphanumeric)\n",
    "- `\\s`: whitespace\n",
    "- `\\d`: numbers\n",
    "- Captial variants: matches anything that is **not** described by the lower case variant"
   ]
  },
  {
   "cell_type": "code",
   "execution_count": 19,
   "metadata": {},
   "outputs": [
    {
     "data": {
      "text/plain": [
       "<re.Match object; span=(0, 1), match='a'>"
      ]
     },
     "execution_count": 19,
     "metadata": {},
     "output_type": "execute_result"
    }
   ],
   "source": [
    "#matches any word characters \n",
    "#looks for anything a-z, 0-9, or an underscore (_)\n",
    "regexp = r'\\w'\n",
    "subject = 'abc 123'\n",
    "\n",
    "re.search(regexp, subject)\n",
    "#.search matches the first instance of a word character ('a')"
   ]
  },
  {
   "cell_type": "code",
   "execution_count": 20,
   "metadata": {},
   "outputs": [
    {
     "data": {
      "text/plain": [
       "<re.Match object; span=(3, 4), match=' '>"
      ]
     },
     "execution_count": 20,
     "metadata": {},
     "output_type": "execute_result"
    }
   ],
   "source": [
    "#matches whitespace\n",
    "regexp = r'\\s'\n",
    "subject = 'abc 123'\n",
    "\n",
    "re.search(regexp, subject)\n",
    "#spans from 3 to 4 and matches the empty whitespace"
   ]
  },
  {
   "cell_type": "code",
   "execution_count": 21,
   "metadata": {},
   "outputs": [
    {
     "data": {
      "text/plain": [
       "<re.Match object; span=(4, 5), match='1'>"
      ]
     },
     "execution_count": 21,
     "metadata": {},
     "output_type": "execute_result"
    }
   ],
   "source": [
    "#matches any digit 0-9\n",
    "regexp = r'\\d'\n",
    "subject = 'abc 123'\n",
    "\n",
    "re.search(regexp, subject)\n",
    "#.search matches the first instance of a digit"
   ]
  },
  {
   "cell_type": "code",
   "execution_count": 22,
   "metadata": {},
   "outputs": [
    {
     "data": {
      "text/plain": [
       "<re.Match object; span=(0, 1), match='a'>"
      ]
     },
     "execution_count": 22,
     "metadata": {},
     "output_type": "execute_result"
    }
   ],
   "source": [
    "#capital D matches anything that is NOT a digit\n",
    "regexp = r'\\D'\n",
    "subject = 'abc 123'\n",
    "\n",
    "re.search(regexp, subject)\n",
    "#.search matches the 'a' b/c that is the first character that is not a digit"
   ]
  },
  {
   "cell_type": "code",
   "execution_count": 23,
   "metadata": {},
   "outputs": [
    {
     "data": {
      "text/plain": [
       "<re.Match object; span=(3, 4), match=' '>"
      ]
     },
     "execution_count": 23,
     "metadata": {},
     "output_type": "execute_result"
    }
   ],
   "source": [
    "#capital W matches anything that is NOT a word character\n",
    "regexp = r'\\W'\n",
    "subject = 'abc 123'\n",
    "\n",
    "re.search(regexp, subject)\n",
    "#.search matches the whitespace since its the first non-alphanumeric character"
   ]
  },
  {
   "cell_type": "code",
   "execution_count": 24,
   "metadata": {},
   "outputs": [
    {
     "data": {
      "text/plain": [
       "<re.Match object; span=(0, 1), match='a'>"
      ]
     },
     "execution_count": 24,
     "metadata": {},
     "output_type": "execute_result"
    }
   ],
   "source": [
    "#capital S matches anything that is NOT whitespace\n",
    "regexp = r'\\S'\n",
    "subject = 'abc 123'\n",
    "\n",
    "re.search(regexp, subject)\n",
    "#.search matches the 'a' b/c it is the first instance of NON whitespace"
   ]
  },
  {
   "cell_type": "markdown",
   "metadata": {},
   "source": [
    "<div style=\"background-color: rgba(0, 100, 200, .1); padding: 1em 3em; border-radius: 5px; border: 1px solid black\">\n",
    "    <div style=\"font-weight: bold; font-size: 1.2em; border-bottom: 1px dashed black; padding-bottom: .5em;\">\n",
    "        Mini Exercise\n",
    "    </div>\n",
    "    <p>Continue to use the same subject variable from above.</p>\n",
    "    <ol>\n",
    "        <li>Use all of the above metacharacters with <code>re.findall</code>. What do you notice?</li>\n",
    "        - gives back a list of strings w/ each string representing one match of the regular expression.\n",
    "        <li>What does the regular expression <code>\\w\\w</code> match?</li>\n",
    "        - 2 word/alphanumeric characters next to each other.\n",
    "        <li>Use only metacharacters to write a regular expression to match \"c 1\".</li>\n",
    "        <li>Use a combination of metacharacters to match 3 digits in a row.</li>\n",
    "    </ol>\n",
    "</div>"
   ]
  },
  {
   "cell_type": "markdown",
   "metadata": {},
   "source": [
    "#### 1. Use all of the above metacharacters with re.findall"
   ]
  },
  {
   "cell_type": "code",
   "execution_count": 25,
   "metadata": {},
   "outputs": [
    {
     "data": {
      "text/plain": [
       "['a', 'b', 'c', '1', '2', '3']"
      ]
     },
     "execution_count": 25,
     "metadata": {},
     "output_type": "execute_result"
    }
   ],
   "source": [
    "#everything that is a word character is returned\n",
    "regexp = r'\\w'\n",
    "subject = 'abc 123'\n",
    "\n",
    "re.findall(regexp, subject)"
   ]
  },
  {
   "cell_type": "code",
   "execution_count": 26,
   "metadata": {},
   "outputs": [
    {
     "data": {
      "text/plain": [
       "[' ']"
      ]
     },
     "execution_count": 26,
     "metadata": {},
     "output_type": "execute_result"
    }
   ],
   "source": [
    "#everything that is whitespace is returned back\n",
    "regexp = r'\\s'\n",
    "subject = 'abc 123'\n",
    "\n",
    "re.findall(regexp, subject)"
   ]
  },
  {
   "cell_type": "code",
   "execution_count": 27,
   "metadata": {},
   "outputs": [
    {
     "data": {
      "text/plain": [
       "[' ', ' ', ' ']"
      ]
     },
     "execution_count": 27,
     "metadata": {},
     "output_type": "execute_result"
    }
   ],
   "source": [
    "#another instance to show more empty strings w/ .findall r'\\s'\n",
    "regexp = r'\\s'\n",
    "subject = 'abc easy as 123'\n",
    "\n",
    "re.findall(regexp, subject)"
   ]
  },
  {
   "cell_type": "code",
   "execution_count": 28,
   "metadata": {},
   "outputs": [
    {
     "data": {
      "text/plain": [
       "['1', '2', '3']"
      ]
     },
     "execution_count": 28,
     "metadata": {},
     "output_type": "execute_result"
    }
   ],
   "source": [
    "#returns anything that is a digit\n",
    "regexp = r'\\d'\n",
    "subject = 'abc 123'\n",
    "\n",
    "re.findall(regexp, subject)"
   ]
  },
  {
   "cell_type": "code",
   "execution_count": 29,
   "metadata": {},
   "outputs": [
    {
     "data": {
      "text/plain": [
       "[' ']"
      ]
     },
     "execution_count": 29,
     "metadata": {},
     "output_type": "execute_result"
    }
   ],
   "source": [
    "#returns anything that is not a word character\n",
    "regexp = r'\\W'\n",
    "subject = 'abc 123'\n",
    "\n",
    "re.findall(regexp, subject)"
   ]
  },
  {
   "cell_type": "code",
   "execution_count": 30,
   "metadata": {},
   "outputs": [
    {
     "data": {
      "text/plain": [
       "['a', 'b', 'c', '1', '2', '3']"
      ]
     },
     "execution_count": 30,
     "metadata": {},
     "output_type": "execute_result"
    }
   ],
   "source": [
    "#everything that is not whitespace is returned back \n",
    "regexp = r'\\S'\n",
    "subject = 'abc 123'\n",
    "\n",
    "re.findall(regexp, subject)"
   ]
  },
  {
   "cell_type": "code",
   "execution_count": 31,
   "metadata": {},
   "outputs": [
    {
     "data": {
      "text/plain": [
       "['a', 'b', 'c', ' ']"
      ]
     },
     "execution_count": 31,
     "metadata": {},
     "output_type": "execute_result"
    }
   ],
   "source": [
    "#returns everything that is not a digit (notice how it also includes the whitespace)\n",
    "regexp = r'\\D'\n",
    "subject = 'abc 123'\n",
    "\n",
    "re.findall(regexp, subject)"
   ]
  },
  {
   "cell_type": "markdown",
   "metadata": {},
   "source": [
    "#### 2. What does the regular expression \\w\\w match?"
   ]
  },
  {
   "cell_type": "code",
   "execution_count": 32,
   "metadata": {},
   "outputs": [
    {
     "data": {
      "text/plain": [
       "['ab', '12']"
      ]
     },
     "execution_count": 32,
     "metadata": {},
     "output_type": "execute_result"
    }
   ],
   "source": [
    "#gives back 'ab' b/c its the first time 2 word characters are next to each other, \n",
    "#then the sequence 'c' and whitespace does not match (b/c the whitespace character is not a word character)\n",
    "#'12' then matches as well b/c there's another 2 word chars next to each other\n",
    "#'3' doesn't show b/c it's just a single digit and nothing else at the end of the string\n",
    "regexp = r'\\w\\w'\n",
    "subject = 'abc 123'\n",
    "\n",
    "re.findall(regexp, subject)"
   ]
  },
  {
   "cell_type": "code",
   "execution_count": 33,
   "metadata": {},
   "outputs": [
    {
     "data": {
      "text/plain": [
       "['ab', 'cd', 'ef', '12', '34', '56', '89']"
      ]
     },
     "execution_count": 33,
     "metadata": {},
     "output_type": "execute_result"
    }
   ],
   "source": [
    "#another example of returning 2 word characters next to each other\n",
    "regexp = r'\\w\\w'\n",
    "subject = 'abcdefg 1234 567 890'\n",
    "\n",
    "re.findall(regexp, subject)"
   ]
  },
  {
   "cell_type": "code",
   "execution_count": 34,
   "metadata": {},
   "outputs": [
    {
     "data": {
      "text/plain": [
       "<re.Match object; span=(4, 6), match='12'>"
      ]
     },
     "execution_count": 34,
     "metadata": {},
     "output_type": "execute_result"
    }
   ],
   "source": [
    "#returns '12' b/c its a sequence of one digit and then another digit\n",
    "regexp = r'\\d\\d'\n",
    "subject = 'abc 123'\n",
    "\n",
    "re.search(regexp, subject)"
   ]
  },
  {
   "cell_type": "code",
   "execution_count": 35,
   "metadata": {},
   "outputs": [
    {
     "data": {
      "text/plain": [
       "['12', '34', '78']"
      ]
     },
     "execution_count": 35,
     "metadata": {},
     "output_type": "execute_result"
    }
   ],
   "source": [
    "#another example of 2 digits next to each other\n",
    "regexp = r'\\d\\d'\n",
    "subject = 'abc 12345 6 789 0'\n",
    "\n",
    "re.findall(regexp, subject)"
   ]
  },
  {
   "cell_type": "code",
   "execution_count": 36,
   "metadata": {},
   "outputs": [
    {
     "data": {
      "text/plain": [
       "['12', '34', '56', '78']"
      ]
     },
     "execution_count": 36,
     "metadata": {},
     "output_type": "execute_result"
    }
   ],
   "source": [
    "#1 more example\n",
    "regexp = r'\\d\\d'\n",
    "subject = 'abc 123456 789 0'\n",
    "\n",
    "re.findall(regexp, subject)"
   ]
  },
  {
   "cell_type": "markdown",
   "metadata": {},
   "source": [
    "#### 3. Use only metacharacters to write a regular expression to match \"c 1\""
   ]
  },
  {
   "cell_type": "code",
   "execution_count": 37,
   "metadata": {},
   "outputs": [
    {
     "data": {
      "text/plain": [
       "<re.Match object; span=(2, 5), match='c 1'>"
      ]
     },
     "execution_count": 37,
     "metadata": {},
     "output_type": "execute_result"
    }
   ],
   "source": [
    "#word character, s for whitespace and 1 for digit\n",
    "regexp = r'\\w\\s\\w' \n",
    "subject = 'abc 123'\n",
    "\n",
    "re.search(regexp, subject)"
   ]
  },
  {
   "cell_type": "code",
   "execution_count": 38,
   "metadata": {},
   "outputs": [
    {
     "data": {
      "text/plain": [
       "<re.Match object; span=(2, 5), match='c 1'>"
      ]
     },
     "execution_count": 38,
     "metadata": {},
     "output_type": "execute_result"
    }
   ],
   "source": [
    "#another way\n",
    "regexp = r'\\w\\s\\d'\n",
    "subject = 'abc 123'\n",
    "\n",
    "re.search(regexp, subject)"
   ]
  },
  {
   "cell_type": "code",
   "execution_count": 39,
   "metadata": {
    "scrolled": true
   },
   "outputs": [
    {
     "data": {
      "text/plain": [
       "['c 1']"
      ]
     },
     "execution_count": 39,
     "metadata": {},
     "output_type": "execute_result"
    }
   ],
   "source": [
    "#many other ways\n",
    "regexp = r'..\\d'\n",
    "subject = 'abc 123'\n",
    "\n",
    "re.findall(regexp, subject)"
   ]
  },
  {
   "cell_type": "code",
   "execution_count": 40,
   "metadata": {},
   "outputs": [
    {
     "data": {
      "text/plain": [
       "<re.Match object; span=(2, 5), match='c 1'>"
      ]
     },
     "execution_count": 40,
     "metadata": {},
     "output_type": "execute_result"
    }
   ],
   "source": [
    "#another way\n",
    "regexp = r'\\S\\s\\S'\n",
    "subject = 'abc 123'\n",
    "\n",
    "re.search(regexp, subject)"
   ]
  },
  {
   "cell_type": "code",
   "execution_count": 41,
   "metadata": {},
   "outputs": [
    {
     "data": {
      "text/plain": [
       "<re.Match object; span=(2, 5), match='c 1'>"
      ]
     },
     "execution_count": 41,
     "metadata": {},
     "output_type": "execute_result"
    }
   ],
   "source": [
    "#another way\n",
    "regexp = r'c..'\n",
    "subject = 'abc 123'\n",
    "\n",
    "re.search(regexp, subject)"
   ]
  },
  {
   "cell_type": "markdown",
   "metadata": {},
   "source": [
    "#### Use a combination of metacharacters to match 3 digits in a row."
   ]
  },
  {
   "cell_type": "code",
   "execution_count": 42,
   "metadata": {},
   "outputs": [
    {
     "data": {
      "text/plain": [
       "<re.Match object; span=(4, 7), match='123'>"
      ]
     },
     "execution_count": 42,
     "metadata": {},
     "output_type": "execute_result"
    }
   ],
   "source": [
    "#returns 3 digits next to each other\n",
    "regexp = r'\\d\\w\\w'\n",
    "subject = 'abc 123'\n",
    "\n",
    "re.search(regexp, subject)"
   ]
  },
  {
   "cell_type": "code",
   "execution_count": 43,
   "metadata": {},
   "outputs": [
    {
     "data": {
      "text/plain": [
       "['123']"
      ]
     },
     "execution_count": 43,
     "metadata": {},
     "output_type": "execute_result"
    }
   ],
   "source": [
    "#another way\n",
    "regexp = r'\\d\\d\\d'\n",
    "subject = 'abc 123'\n",
    "\n",
    "re.findall(regexp, subject)"
   ]
  },
  {
   "cell_type": "code",
   "execution_count": 44,
   "metadata": {},
   "outputs": [
    {
     "data": {
      "text/plain": [
       "['123']"
      ]
     },
     "execution_count": 44,
     "metadata": {},
     "output_type": "execute_result"
    }
   ],
   "source": [
    "#another way\n",
    "regexp = r'\\d\\w\\d'\n",
    "subject = 'abc 123'\n",
    "\n",
    "re.findall(regexp, subject)"
   ]
  },
  {
   "cell_type": "markdown",
   "metadata": {},
   "source": [
    "### Repeating: modify whatever comes before them\n",
    "\n",
    "- `{}`: specific number of repetitions\n",
    "- `*`: zero or more\n",
    "- `+`: one or more\n",
    "- `?`: optional\n",
    "- greedy + non-greedy"
   ]
  },
  {
   "cell_type": "code",
   "execution_count": 45,
   "metadata": {},
   "outputs": [
    {
     "data": {
      "text/plain": [
       "<re.Match object; span=(0, 3), match='abc'>"
      ]
     },
     "execution_count": 45,
     "metadata": {},
     "output_type": "execute_result"
    }
   ],
   "source": [
    "#'\\w' matches any word char \n",
    "#'+' modifies anything that comes before it (the word char)\n",
    "#returns one or more('+') word characters('\\w')\n",
    "regexp = r'\\w+'\n",
    "subject = 'abc 123'\n",
    "\n",
    "re.search(regexp, subject)"
   ]
  },
  {
   "cell_type": "code",
   "execution_count": 46,
   "metadata": {},
   "outputs": [
    {
     "data": {
      "text/plain": [
       "<re.Match object; span=(0, 1), match='a'>"
      ]
     },
     "execution_count": 46,
     "metadata": {},
     "output_type": "execute_result"
    }
   ],
   "source": [
    "#common use of '*' (zero or more) is when matching text that might have a lot of whitespace in it\n",
    "#zero or more space characters, and then the word character\n",
    "regexp = r'\\s*\\w'\n",
    "subject = 'abc 123'\n",
    "\n",
    "re.search(regexp, subject)"
   ]
  },
  {
   "cell_type": "code",
   "execution_count": 47,
   "metadata": {},
   "outputs": [
    {
     "data": {
      "text/plain": [
       "<re.Match object; span=(0, 8), match='       a'>"
      ]
     },
     "execution_count": 47,
     "metadata": {},
     "output_type": "execute_result"
    }
   ],
   "source": [
    "#('*') matches all the space characters (zero or more), and then the word character\n",
    "regexp = r'\\s*\\w'\n",
    "subject = '       abc 123'\n",
    "\n",
    "re.search(regexp, subject)"
   ]
  },
  {
   "cell_type": "code",
   "execution_count": 48,
   "metadata": {},
   "outputs": [
    {
     "data": {
      "text/plain": [
       "<re.Match object; span=(4, 7), match='123'>"
      ]
     },
     "execution_count": 48,
     "metadata": {},
     "output_type": "execute_result"
    }
   ],
   "source": [
    "#refers to one or more digits\n",
    "regexp = r'\\d+'\n",
    "subject = 'abc 123'\n",
    "\n",
    "re.search(regexp, subject)"
   ]
  },
  {
   "cell_type": "code",
   "execution_count": 49,
   "metadata": {},
   "outputs": [
    {
     "data": {
      "text/plain": [
       "<re.Match object; span=(4, 6), match='12'>"
      ]
     },
     "execution_count": 49,
     "metadata": {},
     "output_type": "execute_result"
    }
   ],
   "source": [
    "#can specify repetitions w/ the {}\n",
    "#returns 2 digits in a row (2 repetitions of a digit)\n",
    "regexp = r'\\d{2}' \n",
    "subject = 'abc 123'\n",
    "\n",
    "re.search(regexp, subject)"
   ]
  },
  {
   "cell_type": "code",
   "execution_count": 50,
   "metadata": {},
   "outputs": [],
   "source": [
    "#this reg expression does not match the subject b/c there is no 2 whitespaces in a row\n",
    "regexp = r'\\s{2}'\n",
    "subject = 'abc 123'\n",
    "\n",
    "re.search(regexp, subject)"
   ]
  },
  {
   "cell_type": "code",
   "execution_count": 51,
   "metadata": {},
   "outputs": [
    {
     "data": {
      "text/plain": [
       "['abc', '123']"
      ]
     },
     "execution_count": 51,
     "metadata": {},
     "output_type": "execute_result"
    }
   ],
   "source": [
    "#inside {} we can have a comma to say 2 or more and give an upper bound\n",
    "#this matches 2 or 3 word characters, one after the other\n",
    "regexp = r'\\w{2,3}'\n",
    "subject = 'abc 123'\n",
    "\n",
    "re.findall(regexp, subject)"
   ]
  },
  {
   "cell_type": "code",
   "execution_count": 52,
   "metadata": {},
   "outputs": [
    {
     "data": {
      "text/plain": [
       "<re.Match object; span=(0, 3), match='abc'>"
      ]
     },
     "execution_count": 52,
     "metadata": {},
     "output_type": "execute_result"
    }
   ],
   "source": [
    "#example with .search\n",
    "regexp = r'\\w{2,3}'\n",
    "subject = 'abc 123'\n",
    "\n",
    "re.search(regexp, subject)"
   ]
  },
  {
   "cell_type": "code",
   "execution_count": 53,
   "metadata": {},
   "outputs": [
    {
     "data": {
      "text/plain": [
       "['abc',\n",
       " '12345',\n",
       " 'you',\n",
       " 'and',\n",
       " 'me',\n",
       " 'super',\n",
       " 'calif',\n",
       " 'ragil',\n",
       " 'istic',\n",
       " 'expia',\n",
       " 'lidoc',\n",
       " 'ious']"
      ]
     },
     "execution_count": 53,
     "metadata": {},
     "output_type": "execute_result"
    }
   ],
   "source": [
    "#another example of 2 or 5 word characters\n",
    "regexp = r'\\w{2,5}'\n",
    "subject = 'abc 123456 you and me supercalifragilisticexpialidocious'\n",
    "\n",
    "re.findall(regexp, subject)"
   ]
  },
  {
   "cell_type": "code",
   "execution_count": 54,
   "metadata": {},
   "outputs": [
    {
     "data": {
      "text/plain": [
       "<re.Match object; span=(0, 3), match='abc'>"
      ]
     },
     "execution_count": 54,
     "metadata": {},
     "output_type": "execute_result"
    }
   ],
   "source": [
    "#example w/ .search\n",
    "regexp = r'\\w{2,5}'\n",
    "subject = 'abc 123456 you and me supercalifragilisticexpialidocious'\n",
    "\n",
    "re.search(regexp, subject)"
   ]
  },
  {
   "cell_type": "code",
   "execution_count": 55,
   "metadata": {},
   "outputs": [
    {
     "data": {
      "text/plain": [
       "<re.Match object; span=(0, 3), match='abc'>"
      ]
     },
     "execution_count": 55,
     "metadata": {},
     "output_type": "execute_result"
    }
   ],
   "source": [
    "#whatever comes before the '?' is optional (can be matched or not)\n",
    "regexp = r'abcd?'\n",
    "subject = 'abc 123'\n",
    "\n",
    "re.search(regexp, subject)"
   ]
  },
  {
   "cell_type": "code",
   "execution_count": 56,
   "metadata": {},
   "outputs": [
    {
     "data": {
      "text/plain": [
       "<re.Match object; span=(0, 4), match='abcd'>"
      ]
     },
     "execution_count": 56,
     "metadata": {},
     "output_type": "execute_result"
    }
   ],
   "source": [
    "#if you have 'd' or not in subject, it'll still match cause of the '?'\n",
    "regexp = r'abcd?'\n",
    "subject = 'abcd 123'\n",
    "\n",
    "re.search(regexp, subject)"
   ]
  },
  {
   "cell_type": "code",
   "execution_count": 57,
   "metadata": {},
   "outputs": [],
   "source": [
    "#see the difference w/out '?' (doesn't match anything)\n",
    "regexp = r'abcd'\n",
    "subject = 'abc 123'\n",
    "\n",
    "re.search(regexp, subject)"
   ]
  },
  {
   "cell_type": "code",
   "execution_count": 58,
   "metadata": {},
   "outputs": [
    {
     "data": {
      "text/plain": [
       "['abc', '123']"
      ]
     },
     "execution_count": 58,
     "metadata": {},
     "output_type": "execute_result"
    }
   ],
   "source": [
    "#`+` is greedy by default b/c it matches as much as it can\n",
    "#greedily matches as much as it can\n",
    "regexp = r'\\w+' #one or more any alphanumeric\n",
    "subject = 'abc 123'\n",
    "\n",
    "re.findall(regexp, subject)"
   ]
  },
  {
   "cell_type": "code",
   "execution_count": 59,
   "metadata": {},
   "outputs": [
    {
     "data": {
      "text/plain": [
       "['abcde', '123']"
      ]
     },
     "execution_count": 59,
     "metadata": {},
     "output_type": "execute_result"
    }
   ],
   "source": [
    "#it will much one or more word characters until it hits something that is not a word character\n",
    "regexp = r'\\w+'\n",
    "subject = 'abcde 123 ^'\n",
    "\n",
    "re.findall(regexp, subject)"
   ]
  },
  {
   "cell_type": "code",
   "execution_count": 60,
   "metadata": {},
   "outputs": [
    {
     "data": {
      "text/plain": [
       "['a', 'b', 'c', '1', '2', '3']"
      ]
     },
     "execution_count": 60,
     "metadata": {},
     "output_type": "execute_result"
    }
   ],
   "source": [
    "#'?' says: make your match, nongreedily\n",
    "#nongreedy matches as little as possible\n",
    "regexp = r'\\w+?'\n",
    "subject = 'abc 123'\n",
    "\n",
    "re.findall(regexp, subject)\n",
    "#least possible match for one or more word characters is every char by itself"
   ]
  },
  {
   "cell_type": "markdown",
   "metadata": {},
   "source": [
    "**A `?` after a literal character or metacharacter will make it optional.**\n",
    "\n",
    "\n",
    "**A `?` after a repetition operator, makes that repetition *nongreedy***"
   ]
  },
  {
   "cell_type": "code",
   "execution_count": 61,
   "metadata": {},
   "outputs": [
    {
     "data": {
      "text/plain": [
       "<re.Match object; span=(0, 7), match='abc 123'>"
      ]
     },
     "execution_count": 61,
     "metadata": {},
     "output_type": "execute_result"
    }
   ],
   "source": [
    "#matches the whole thing: as much as you possibly can ('+') of anything ('.')\n",
    "regexp = r'.+'\n",
    "subject = 'abc 123'\n",
    "\n",
    "re.search(regexp, subject)"
   ]
  },
  {
   "cell_type": "code",
   "execution_count": 62,
   "metadata": {},
   "outputs": [
    {
     "data": {
      "text/plain": [
       "<re.Match object; span=(0, 7), match='abc 123'>"
      ]
     },
     "execution_count": 62,
     "metadata": {},
     "output_type": "execute_result"
    }
   ],
   "source": [
    "#same as adding \\d\n",
    "#match as much as you possibly can ('+') \n",
    "# of anything ('.') up until a digit \n",
    "regexp = r'.+\\d'\n",
    "subject = 'abc 123'\n",
    "\n",
    "re.search(regexp, subject)"
   ]
  },
  {
   "cell_type": "code",
   "execution_count": 63,
   "metadata": {},
   "outputs": [
    {
     "data": {
      "text/plain": [
       "<re.Match object; span=(0, 7), match='abc 123'>"
      ]
     },
     "execution_count": 63,
     "metadata": {},
     "output_type": "execute_result"
    }
   ],
   "source": [
    "#add an 'a' to subject and it outputs the same as above\n",
    "regexp = r'.+\\d'\n",
    "subject = 'abc 123a'\n",
    "\n",
    "re.search(regexp, subject)"
   ]
  },
  {
   "cell_type": "code",
   "execution_count": 64,
   "metadata": {},
   "outputs": [
    {
     "data": {
      "text/plain": [
       "<re.Match object; span=(0, 5), match='abc 1'>"
      ]
     },
     "execution_count": 64,
     "metadata": {},
     "output_type": "execute_result"
    }
   ],
   "source": [
    "#'?' after the '+' makes it nongreedy so it's as little as you can match, and then a digit\n",
    "regexp = r'.+?\\d'\n",
    "subject = 'abc 123'\n",
    "\n",
    "re.search(regexp, subject)"
   ]
  },
  {
   "cell_type": "markdown",
   "metadata": {},
   "source": [
    "<div style=\"background-color: rgba(0, 100, 200, .1); padding: 1em 3em; border-radius: 5px; border: 1px solid black\">\n",
    "    <div style=\"font-weight: bold; font-size: 1.2em; border-bottom: 1px dashed black; padding-bottom: .5em;\">\n",
    "        Mini Exercise\n",
    "    </div>\n",
    "    <p>Use the string below as your subject for this exercise.</p>\n",
    "    <pre><code>Codeup, founded in 2014, is located at 600 Navarro St. Suite 350, San Antonio, TX 78230. You can find us online at http://codeup.com and our alumni portal is located at https://alumni.codeup.com.</code></pre>\n",
    "    <ol>\n",
    "        <li>Write a regular expression that matches all the numbers.</li>\n",
    "        <li>Write a regular expression that matches a 5 digit number, but not a number with fewer digits.</li>\n",
    "        <li>Write a regular expression that matches any urls in the subject.</li>\n",
    "    </ol>\n",
    "</div>"
   ]
  },
  {
   "cell_type": "code",
   "execution_count": 65,
   "metadata": {},
   "outputs": [
    {
     "data": {
      "text/plain": [
       "['2014', '600', '350', '78230']"
      ]
     },
     "execution_count": 65,
     "metadata": {},
     "output_type": "execute_result"
    }
   ],
   "source": [
    "#1. Write a regular expression that matches all the numbers.\n",
    "regexp = r'\\d+' #any sequence of 1 or more digits\n",
    "subject = 'Codeup, founded in 2014, is located at 600 Navarro St. Suite 350, San Antonio, TX 78230. You can find us online at http://codeup.com and our alumni portal is located at https://alumni.codeup.com.'\n",
    "\n",
    "re.findall(regexp, subject)\n"
   ]
  },
  {
   "cell_type": "code",
   "execution_count": 66,
   "metadata": {},
   "outputs": [
    {
     "data": {
      "text/plain": [
       "['78230']"
      ]
     },
     "execution_count": 66,
     "metadata": {},
     "output_type": "execute_result"
    }
   ],
   "source": [
    "#2. Write a regular expression that matches a 5 digit number, but not a number with fewer digits.\n",
    "regexp = r'\\d{5}' #specifies 5 digits\n",
    "subject = 'Codeup, founded in 2014, is located at 600 Navarro St. Suite 350, San Antonio, TX 78230. You can find us online at http://codeup.com and our alumni portal is located at https://alumni.codeup.com.'\n",
    "\n",
    "re.findall(regexp, subject)"
   ]
  },
  {
   "cell_type": "code",
   "execution_count": 67,
   "metadata": {},
   "outputs": [
    {
     "data": {
      "text/plain": [
       "['http://codeup.com', 'https://alumni.codeup.com']"
      ]
     },
     "execution_count": 67,
     "metadata": {},
     "output_type": "execute_result"
    }
   ],
   "source": [
    "#3. Write a regular expression that matches any urls in the subject.\n",
    "regexp = r'https?://.+?com' #'?' makes it nongreedy (matching as little as possible)\n",
    "subject = 'Codeup, founded in 2014, is located at 600 Navarro St. Suite 350, San Antonio, TX 78230. You can find us online at http://codeup.com and our alumni portal is located at https://alumni.codeup.com.'\n",
    "\n",
    "re.findall(regexp, subject)"
   ]
  },
  {
   "cell_type": "code",
   "execution_count": 68,
   "metadata": {},
   "outputs": [
    {
     "data": {
      "text/plain": [
       "['http://codeup.com and our alumni portal is located at ']"
      ]
     },
     "execution_count": 68,
     "metadata": {},
     "output_type": "execute_result"
    }
   ],
   "source": [
    "#https '?' makes 's' optional, \n",
    "#'://' are the literal characters from the url\n",
    "#'.+' is one ore more of anything, up until a whitespace char ('\\s')\n",
    "#and matching as much as it possibly can (output has text 'and our alumni portal is located at ')\n",
    "regexp = r'https?://.+\\s'\n",
    "subject = 'Codeup, founded in 2014, is located at 600 Navarro St. Suite 350, San Antonio, TX 78230. You can find us online at http://codeup.com and our alumni portal is located at https://alumni.codeup.com.'\n",
    "\n",
    "re.findall(regexp, subject)"
   ]
  },
  {
   "cell_type": "code",
   "execution_count": 69,
   "metadata": {},
   "outputs": [
    {
     "data": {
      "text/plain": [
       "['http://codeup.com ']"
      ]
     },
     "execution_count": 69,
     "metadata": {},
     "output_type": "execute_result"
    }
   ],
   "source": [
    "#only returns 1 (codeup.com)\n",
    "#'.+?\\s' means one or more of anything nongreedily up until whitespace char\n",
    "#so the '?' after '+' is matching as little as possible\n",
    "regexp = r'https?://.+?\\s'\n",
    "subject = 'Codeup, founded in 2014, is located at 600 Navarro St. Suite 350, San Antonio, TX 78230. You can find us online at http://codeup.com and our alumni portal is located at https://alumni.codeup.com.'\n",
    "\n",
    "re.findall(regexp, subject)"
   ]
  },
  {
   "cell_type": "code",
   "execution_count": 70,
   "metadata": {},
   "outputs": [
    {
     "data": {
      "text/plain": [
       "['http://codeup.com and our alumni portal is located at https://alumni.codeup.com']"
      ]
     },
     "execution_count": 70,
     "metadata": {},
     "output_type": "execute_result"
    }
   ],
   "source": [
    "#pulls both urls but includes the text b/c there is no '?' after the '+', so it is matching greedily\n",
    "regexp = r'https?://.+com'\n",
    "subject = 'Codeup, founded in 2014, is located at 600 Navarro St. Suite 350, San Antonio, TX 78230. You can find us online at http://codeup.com and our alumni portal is located at https://alumni.codeup.com.'\n",
    "\n",
    "re.findall(regexp, subject)"
   ]
  },
  {
   "cell_type": "markdown",
   "metadata": {},
   "source": [
    "### Any/None Of"
   ]
  },
  {
   "cell_type": "code",
   "execution_count": 71,
   "metadata": {},
   "outputs": [
    {
     "data": {
      "text/plain": [
       "['a', 'b']"
      ]
     },
     "execution_count": 71,
     "metadata": {},
     "output_type": "execute_result"
    }
   ],
   "source": [
    "#matches a single char that is anything that is inside of the brackets\n",
    "regexp = r'[ab]'\n",
    "subject = 'abc 123'\n",
    "\n",
    "re.findall(regexp, subject)"
   ]
  },
  {
   "cell_type": "code",
   "execution_count": 72,
   "metadata": {},
   "outputs": [
    {
     "data": {
      "text/plain": [
       "['a', 'c']"
      ]
     },
     "execution_count": 72,
     "metadata": {},
     "output_type": "execute_result"
    }
   ],
   "source": [
    "#matches a single char that is anything that is inside of the brackets\n",
    "regexp = r'[ac]'\n",
    "subject = 'abc 123'\n",
    "\n",
    "re.findall(regexp, subject)"
   ]
  },
  {
   "cell_type": "code",
   "execution_count": 73,
   "metadata": {},
   "outputs": [
    {
     "data": {
      "text/plain": [
       "['c', '2']"
      ]
     },
     "execution_count": 73,
     "metadata": {},
     "output_type": "execute_result"
    }
   ],
   "source": [
    "#matches a single char that is anything that is inside of the brackets\n",
    "regexp = r'[c2]'\n",
    "subject = 'abc 123'\n",
    "\n",
    "re.findall(regexp, subject)"
   ]
  },
  {
   "cell_type": "code",
   "execution_count": 74,
   "metadata": {},
   "outputs": [
    {
     "data": {
      "text/plain": [
       "['2', '3']"
      ]
     },
     "execution_count": 74,
     "metadata": {},
     "output_type": "execute_result"
    }
   ],
   "source": [
    "#specify a range of chars\n",
    "regexp = r'[2-6]'\n",
    "subject = 'abc 123'\n",
    "\n",
    "re.findall(regexp, subject)"
   ]
  },
  {
   "cell_type": "code",
   "execution_count": 75,
   "metadata": {},
   "outputs": [
    {
     "data": {
      "text/plain": [
       "['a', 'b', 'c', ' ', '1']"
      ]
     },
     "execution_count": 75,
     "metadata": {},
     "output_type": "execute_result"
    }
   ],
   "source": [
    "#can invert the match\n",
    "\n",
    "regexp = r'[^2-6]'\n",
    "subject = 'abc 123'\n",
    "\n",
    "re.findall(regexp, subject)"
   ]
  },
  {
   "cell_type": "code",
   "execution_count": 76,
   "metadata": {},
   "outputs": [
    {
     "data": {
      "text/plain": [
       "['ab', ' 12']"
      ]
     },
     "execution_count": 76,
     "metadata": {},
     "output_type": "execute_result"
    }
   ],
   "source": [
    "#can use repetition operators\n",
    "regexp = r'[^c3]+'\n",
    "subject = 'abc 123'\n",
    "\n",
    "re.findall(regexp, subject)"
   ]
  },
  {
   "cell_type": "code",
   "execution_count": 77,
   "metadata": {},
   "outputs": [
    {
     "data": {
      "text/plain": [
       "<re.Match object; span=(0, 3), match='abc'>"
      ]
     },
     "execution_count": 77,
     "metadata": {},
     "output_type": "execute_result"
    }
   ],
   "source": [
    "\n",
    "regexp = r'[a1][b2][c3]'\n",
    "subject = 'abc 123'\n",
    "\n",
    "re.match(regexp, subject)"
   ]
  },
  {
   "cell_type": "code",
   "execution_count": 78,
   "metadata": {},
   "outputs": [
    {
     "data": {
      "text/plain": [
       "<re.Match object; span=(0, 3), match='123'>"
      ]
     },
     "execution_count": 78,
     "metadata": {},
     "output_type": "execute_result"
    }
   ],
   "source": [
    "#change subject\n",
    "subject = '123abc'\n",
    "\n",
    "re.match(regexp, subject)"
   ]
  },
  {
   "cell_type": "markdown",
   "metadata": {},
   "source": [
    "<div style=\"background-color: rgba(0, 100, 200, .1); padding: 1em 3em; border-radius: 5px; border: 1px solid black\">\n",
    "    <div style=\"font-weight: bold; font-size: 1.2em; border-bottom: 1px dashed black; padding-bottom: .5em;\">\n",
    "        Mini Exercise\n",
    "    </div>\n",
    "    <p>For this exercise you should make up various subjects and test them with your regular expressions.</p>\n",
    "    <ol>\n",
    "        <li>Write a regular expression that matches even numbers.</li>\n",
    "        <li>Write a regular expression that matches 2 or more odd numbers in a row.</li>\n",
    "        <li>Write a regular expression that any word with a vowel in it.</li>\n",
    "    </ol>\n",
    "</div>"
   ]
  },
  {
   "cell_type": "code",
   "execution_count": 79,
   "metadata": {},
   "outputs": [
    {
     "data": {
      "text/plain": [
       "['2', '4', '6', '8']"
      ]
     },
     "execution_count": 79,
     "metadata": {},
     "output_type": "execute_result"
    }
   ],
   "source": [
    "#1. Write a regular expression that matches even numbers.\n",
    "regexp = r'[02468]'\n",
    "subject = '123456 789'\n",
    "\n",
    "re.findall(regexp, subject)"
   ]
  },
  {
   "cell_type": "code",
   "execution_count": 80,
   "metadata": {},
   "outputs": [
    {
     "data": {
      "text/plain": [
       "['11', '133', '333']"
      ]
     },
     "execution_count": 80,
     "metadata": {},
     "output_type": "execute_result"
    }
   ],
   "source": [
    "#2. Write a regular expression that matches 2 or more odd numbers in a row.\n",
    "regexp = r'[13579]{2,}'#'2,' to say 2 or more of these\n",
    "subject = '123456 789 110 133 333'\n",
    "\n",
    "re.findall(regexp, subject)"
   ]
  },
  {
   "cell_type": "code",
   "execution_count": 81,
   "metadata": {},
   "outputs": [
    {
     "data": {
      "text/plain": [
       "['o', 'e', 'i']"
      ]
     },
     "execution_count": 81,
     "metadata": {},
     "output_type": "execute_result"
    }
   ],
   "source": [
    "#3. Write a regular expression that matches any word with a vowel in it.\n",
    "regexp = r'[aeiou]'\n",
    "subject = 'do re mi'\n",
    "\n",
    "re.findall(regexp, subject)"
   ]
  },
  {
   "cell_type": "code",
   "execution_count": 82,
   "metadata": {},
   "outputs": [],
   "source": [
    "#.match\n",
    "regexp = r'[aeiou]'\n",
    "subject = 'do re mi'\n",
    "\n",
    "re.match(regexp, subject)"
   ]
  },
  {
   "cell_type": "code",
   "execution_count": 83,
   "metadata": {},
   "outputs": [
    {
     "data": {
      "text/plain": [
       "<re.Match object; span=(1, 2), match='o'>"
      ]
     },
     "execution_count": 83,
     "metadata": {},
     "output_type": "execute_result"
    }
   ],
   "source": [
    "#.search\n",
    "regexp = r'[aeiou]'\n",
    "subject = 'do re mi'\n",
    "\n",
    "re.search(regexp, subject)"
   ]
  },
  {
   "cell_type": "markdown",
   "metadata": {},
   "source": [
    "Sidenote: we can use a regexp match object as a boolean value"
   ]
  },
  {
   "cell_type": "code",
   "execution_count": 84,
   "metadata": {},
   "outputs": [
    {
     "name": "stdout",
     "output_type": "stream",
     "text": [
      "No vowels\n"
     ]
    }
   ],
   "source": [
    "regexp = r'[aeiou]'\n",
    "subject = 'bbbb'\n",
    "\n",
    "if re.search(regexp, subject):\n",
    "    print('Found a vowel')\n",
    "else:\n",
    "    print('No vowels')"
   ]
  },
  {
   "cell_type": "code",
   "execution_count": 85,
   "metadata": {},
   "outputs": [
    {
     "name": "stdout",
     "output_type": "stream",
     "text": [
      "Found a vowel\n"
     ]
    }
   ],
   "source": [
    "regexp = r'[aeiou]'\n",
    "subject = 'abc easy as 123'\n",
    "\n",
    "if re.search(regexp, subject):\n",
    "    print('Found a vowel')\n",
    "else:\n",
    "    print('No vowels')"
   ]
  },
  {
   "cell_type": "markdown",
   "metadata": {},
   "source": [
    "### Anchors\n",
    "\n",
    "- `^`: starts with\n",
    "- `$`: ends with"
   ]
  },
  {
   "cell_type": "code",
   "execution_count": 86,
   "metadata": {},
   "outputs": [
    {
     "data": {
      "text/plain": [
       "<re.Match object; span=(1, 2), match='b'>"
      ]
     },
     "execution_count": 86,
     "metadata": {},
     "output_type": "execute_result"
    }
   ],
   "source": [
    "regexp = r'b'\n",
    "subject = 'abc 123'\n",
    "\n",
    "re.search(regexp, subject)"
   ]
  },
  {
   "cell_type": "code",
   "execution_count": 87,
   "metadata": {},
   "outputs": [],
   "source": [
    "#gives back nothing (does the subject start w/ a b)\n",
    "regexp = r'^b'\n",
    "subject = 'abc 123'\n",
    "\n",
    "re.search(regexp, subject)"
   ]
  },
  {
   "cell_type": "code",
   "execution_count": 88,
   "metadata": {},
   "outputs": [
    {
     "data": {
      "text/plain": [
       "<re.Match object; span=(0, 1), match='a'>"
      ]
     },
     "execution_count": 88,
     "metadata": {},
     "output_type": "execute_result"
    }
   ],
   "source": [
    "#start w/ word char\n",
    "regexp = r'^\\w'\n",
    "subject = 'abc 123'\n",
    "\n",
    "re.search(regexp, subject)"
   ]
  },
  {
   "cell_type": "code",
   "execution_count": 89,
   "metadata": {},
   "outputs": [
    {
     "data": {
      "text/plain": [
       "<re.Match object; span=(0, 1), match='a'>"
      ]
     },
     "execution_count": 89,
     "metadata": {},
     "output_type": "execute_result"
    }
   ],
   "source": [
    "regexp = r'^[a-z]'\n",
    "subject = 'abc 123'\n",
    "\n",
    "re.search(regexp, subject)"
   ]
  },
  {
   "cell_type": "code",
   "execution_count": 90,
   "metadata": {},
   "outputs": [],
   "source": [
    "regexp = r'[a-z]$'\n",
    "subject = 'abc 123'\n",
    "\n",
    "re.search(regexp, subject)"
   ]
  },
  {
   "cell_type": "code",
   "execution_count": 91,
   "metadata": {},
   "outputs": [
    {
     "data": {
      "text/plain": [
       "<re.Match object; span=(6, 7), match='3'>"
      ]
     },
     "execution_count": 91,
     "metadata": {},
     "output_type": "execute_result"
    }
   ],
   "source": [
    "regexp = r'\\d$'\n",
    "subject = 'abc 123'\n",
    "\n",
    "re.search(regexp, subject)"
   ]
  },
  {
   "cell_type": "code",
   "execution_count": 92,
   "metadata": {},
   "outputs": [],
   "source": [
    "regexp = r'^$'\n",
    "subject = 'abc 123'\n",
    "\n",
    "re.search(regexp, subject)"
   ]
  },
  {
   "cell_type": "code",
   "execution_count": 93,
   "metadata": {},
   "outputs": [],
   "source": [
    "regexp = r'.*\\d$'\n",
    "subject = ''\n",
    "\n",
    "re.search(regexp, subject)"
   ]
  },
  {
   "cell_type": "code",
   "execution_count": 94,
   "metadata": {},
   "outputs": [
    {
     "data": {
      "text/plain": [
       "<re.Match object; span=(0, 7), match='abc 123'>"
      ]
     },
     "execution_count": 94,
     "metadata": {},
     "output_type": "execute_result"
    }
   ],
   "source": [
    "regexp = r'.*\\d$'\n",
    "subject = 'abc 123'\n",
    "\n",
    "re.search(regexp, subject)"
   ]
  },
  {
   "cell_type": "markdown",
   "metadata": {},
   "source": [
    "<div style=\"background-color: rgba(0, 100, 200, .1); padding: 1em 3em; border-radius: 5px; border: 1px solid black\">\n",
    "    <div style=\"font-weight: bold; font-size: 1.2em; border-bottom: 1px dashed black; padding-bottom: .5em;\">\n",
    "        Mini Exercise\n",
    "    </div>\n",
    "    <p>For this exercise you should make up various subjects and test them with your regular expressions.</p>\n",
    "    <ol>\n",
    "        <li>Write a regular expression that matches if a word starts with a vowel.</li>\n",
    "        <li>Write a regular expression that matches if a word starts with a capital letter.</li>\n",
    "        <li>Write a regular expression that matches if a word ends with a capital letter.</li>        \n",
    "        <li>Write a regular expression that matches if a word starts <b>and</b> ends with a capital letter.</li>\n",
    "    </ol>\n",
    "</div>"
   ]
  },
  {
   "cell_type": "code",
   "execution_count": 95,
   "metadata": {},
   "outputs": [
    {
     "data": {
      "text/plain": [
       "<re.Match object; span=(0, 1), match='e'>"
      ]
     },
     "execution_count": 95,
     "metadata": {},
     "output_type": "execute_result"
    }
   ],
   "source": [
    "#1. Write a regular expression that matches if a word starts with a vowel.\n",
    "regexp = r'^[aeiou]'\n",
    "subject = 'easy as 123'\n",
    "\n",
    "re.search(regexp, subject)"
   ]
  },
  {
   "cell_type": "code",
   "execution_count": 96,
   "metadata": {},
   "outputs": [],
   "source": [
    "regexp = r'^[aeiou]'\n",
    "subject = 'banana'\n",
    "\n",
    "re.search(regexp, subject)"
   ]
  },
  {
   "cell_type": "code",
   "execution_count": 97,
   "metadata": {},
   "outputs": [
    {
     "data": {
      "text/plain": [
       "['e']"
      ]
     },
     "execution_count": 97,
     "metadata": {},
     "output_type": "execute_result"
    }
   ],
   "source": [
    "regexp = r'^[aeiouAEIOU]'\n",
    "subject = 'easy as 123'\n",
    "\n",
    "re.findall(regexp, subject)"
   ]
  },
  {
   "cell_type": "code",
   "execution_count": 98,
   "metadata": {},
   "outputs": [
    {
     "data": {
      "text/plain": [
       "<re.Match object; span=(0, 1), match='E'>"
      ]
     },
     "execution_count": 98,
     "metadata": {},
     "output_type": "execute_result"
    }
   ],
   "source": [
    "#2. Write a regular expression that matches if a word starts with a capital letter.\n",
    "regexp = r'^[A-Z]'\n",
    "subject = 'EASY AS 123'\n",
    "\n",
    "re.search(regexp, subject)"
   ]
  },
  {
   "cell_type": "code",
   "execution_count": 99,
   "metadata": {},
   "outputs": [
    {
     "data": {
      "text/plain": [
       "<re.Match object; span=(15, 16), match='H'>"
      ]
     },
     "execution_count": 99,
     "metadata": {},
     "output_type": "execute_result"
    }
   ],
   "source": [
    "#3. Write a regular expression that matches if a word ends with a capital letter.\n",
    "regexp = r'[A-Z]$'\n",
    "subject = 'EASY AS 123 YEAH'\n",
    "\n",
    "re.search(regexp, subject)"
   ]
  },
  {
   "cell_type": "code",
   "execution_count": 100,
   "metadata": {},
   "outputs": [
    {
     "data": {
      "text/plain": [
       "<re.Match object; span=(0, 16), match='EASY AS 123 YEAH'>"
      ]
     },
     "execution_count": 100,
     "metadata": {},
     "output_type": "execute_result"
    }
   ],
   "source": [
    "#4. Write a regular expression that matches if a word starts and ends with a capital letter.\n",
    "regexp = r'^[A-Z].*[A-Z]$'\n",
    "subject = 'EASY AS 123 YEAH'\n",
    "\n",
    "re.search(regexp, subject)"
   ]
  },
  {
   "cell_type": "code",
   "execution_count": 101,
   "metadata": {},
   "outputs": [
    {
     "data": {
      "text/plain": [
       "<re.Match object; span=(0, 6), match='BananA'>"
      ]
     },
     "execution_count": 101,
     "metadata": {},
     "output_type": "execute_result"
    }
   ],
   "source": [
    "regexp = r'^[A-Z].*[A-Z]$'\n",
    "subject = 'BananA'\n",
    "\n",
    "re.search(regexp, subject)"
   ]
  },
  {
   "cell_type": "code",
   "execution_count": 102,
   "metadata": {},
   "outputs": [
    {
     "data": {
      "text/plain": [
       "<re.Match object; span=(0, 7), match='BananA$'>"
      ]
     },
     "execution_count": 102,
     "metadata": {},
     "output_type": "execute_result"
    }
   ],
   "source": [
    "regexp = r'^[A-Z].*[A-Z$]'\n",
    "subject = 'BananA$'\n",
    "\n",
    "re.search(regexp, subject)"
   ]
  },
  {
   "cell_type": "markdown",
   "metadata": {},
   "source": [
    "### Capture Groups\n",
    "Wrapping any part of "
   ]
  },
  {
   "cell_type": "code",
   "execution_count": 103,
   "metadata": {},
   "outputs": [
    {
     "data": {
      "text/plain": [
       "<re.Match object; span=(0, 3), match='abc'>"
      ]
     },
     "execution_count": 103,
     "metadata": {},
     "output_type": "execute_result"
    }
   ],
   "source": [
    "#simple example\n",
    "regexp = r'abc'\n",
    "subject = 'abc 123'\n",
    "\n",
    "re.search(regexp, subject)"
   ]
  },
  {
   "cell_type": "code",
   "execution_count": 104,
   "metadata": {},
   "outputs": [
    {
     "data": {
      "text/plain": [
       "<re.Match object; span=(0, 7), match='abc 123'>"
      ]
     },
     "execution_count": 104,
     "metadata": {},
     "output_type": "execute_result"
    }
   ],
   "source": [
    "regexp = r'[a-z]+\\s\\d+'\n",
    "subject = 'abc 123'\n",
    "\n",
    "re.search(regexp, subject)"
   ]
  },
  {
   "cell_type": "code",
   "execution_count": 105,
   "metadata": {},
   "outputs": [
    {
     "data": {
      "text/plain": [
       "('abc', '123')"
      ]
     },
     "execution_count": 105,
     "metadata": {},
     "output_type": "execute_result"
    }
   ],
   "source": [
    "#capture groups\n",
    "regexp = r'([a-z]+)\\s(\\d+)'\n",
    "subject = 'abc 123'\n",
    "\n",
    "match = re.search(regexp, subject)\n",
    "match.groups()"
   ]
  },
  {
   "cell_type": "code",
   "execution_count": 106,
   "metadata": {},
   "outputs": [
    {
     "data": {
      "text/html": [
       "<div>\n",
       "<style scoped>\n",
       "    .dataframe tbody tr th:only-of-type {\n",
       "        vertical-align: middle;\n",
       "    }\n",
       "\n",
       "    .dataframe tbody tr th {\n",
       "        vertical-align: top;\n",
       "    }\n",
       "\n",
       "    .dataframe thead th {\n",
       "        text-align: right;\n",
       "    }\n",
       "</style>\n",
       "<table border=\"1\" class=\"dataframe\">\n",
       "  <thead>\n",
       "    <tr style=\"text-align: right;\">\n",
       "      <th></th>\n",
       "      <th>0</th>\n",
       "    </tr>\n",
       "  </thead>\n",
       "  <tbody>\n",
       "    <tr>\n",
       "      <th>0</th>\n",
       "      <td>NaN</td>\n",
       "    </tr>\n",
       "    <tr>\n",
       "      <th>1</th>\n",
       "      <td>123</td>\n",
       "    </tr>\n",
       "    <tr>\n",
       "      <th>2</th>\n",
       "      <td>123</td>\n",
       "    </tr>\n",
       "  </tbody>\n",
       "</table>\n",
       "</div>"
      ],
      "text/plain": [
       "     0\n",
       "0  NaN\n",
       "1  123\n",
       "2  123"
      ]
     },
     "execution_count": 106,
     "metadata": {},
     "output_type": "execute_result"
    }
   ],
   "source": [
    "regexp = '.*?(\\d+)'\n",
    "s = pd.Series(['abc', 'abc123', '123'])\n",
    "s.str.extract(regexp)"
   ]
  },
  {
   "cell_type": "code",
   "execution_count": 107,
   "metadata": {},
   "outputs": [
    {
     "data": {
      "text/plain": [
       "0       abc\n",
       "1    abc123\n",
       "2       123\n",
       "dtype: object"
      ]
     },
     "execution_count": 107,
     "metadata": {},
     "output_type": "execute_result"
    }
   ],
   "source": [
    "s = pd.Series(['abc', 'abc123', '123'])\n",
    "s"
   ]
  },
  {
   "cell_type": "code",
   "execution_count": 108,
   "metadata": {},
   "outputs": [
    {
     "data": {
      "text/html": [
       "<div>\n",
       "<style scoped>\n",
       "    .dataframe tbody tr th:only-of-type {\n",
       "        vertical-align: middle;\n",
       "    }\n",
       "\n",
       "    .dataframe tbody tr th {\n",
       "        vertical-align: top;\n",
       "    }\n",
       "\n",
       "    .dataframe thead th {\n",
       "        text-align: right;\n",
       "    }\n",
       "</style>\n",
       "<table border=\"1\" class=\"dataframe\">\n",
       "  <thead>\n",
       "    <tr style=\"text-align: right;\">\n",
       "      <th></th>\n",
       "      <th>0</th>\n",
       "    </tr>\n",
       "  </thead>\n",
       "  <tbody>\n",
       "    <tr>\n",
       "      <th>0</th>\n",
       "      <td>NaN</td>\n",
       "    </tr>\n",
       "    <tr>\n",
       "      <th>1</th>\n",
       "      <td>123</td>\n",
       "    </tr>\n",
       "    <tr>\n",
       "      <th>2</th>\n",
       "      <td>123</td>\n",
       "    </tr>\n",
       "  </tbody>\n",
       "</table>\n",
       "</div>"
      ],
      "text/plain": [
       "     0\n",
       "0  NaN\n",
       "1  123\n",
       "2  123"
      ]
     },
     "execution_count": 108,
     "metadata": {},
     "output_type": "execute_result"
    }
   ],
   "source": [
    "s.str.extract('.*?(\\d+)')"
   ]
  },
  {
   "cell_type": "markdown",
   "metadata": {},
   "source": [
    "## `re.sub`\n",
    "\n",
    "- removing\n",
    "- substitution"
   ]
  },
  {
   "cell_type": "code",
   "execution_count": 109,
   "metadata": {},
   "outputs": [
    {
     "data": {
      "text/plain": [
       "'abc'"
      ]
     },
     "execution_count": 109,
     "metadata": {},
     "output_type": "execute_result"
    }
   ],
   "source": [
    "regexp = r'\\d+'\n",
    "subject = 'abc123'\n",
    "\n",
    "re.sub(regexp, r'', subject)"
   ]
  },
  {
   "cell_type": "code",
   "execution_count": 110,
   "metadata": {},
   "outputs": [
    {
     "data": {
      "text/plain": [
       "''"
      ]
     },
     "execution_count": 110,
     "metadata": {},
     "output_type": "execute_result"
    }
   ],
   "source": [
    "regexp = r'[a-z]+\\d+'\n",
    "subject = 'abc123'\n",
    "\n",
    "re.sub(regexp, r'', subject)"
   ]
  },
  {
   "cell_type": "code",
   "execution_count": 111,
   "metadata": {},
   "outputs": [
    {
     "data": {
      "text/plain": [
       "''"
      ]
     },
     "execution_count": 111,
     "metadata": {},
     "output_type": "execute_result"
    }
   ],
   "source": [
    "regexp = r'([a-z]+)(\\d+)'\n",
    "subject = 'abc123'\n",
    "\n",
    "re.sub(regexp, r'', subject)"
   ]
  },
  {
   "cell_type": "code",
   "execution_count": 112,
   "metadata": {},
   "outputs": [
    {
     "data": {
      "text/plain": [
       "'123'"
      ]
     },
     "execution_count": 112,
     "metadata": {},
     "output_type": "execute_result"
    }
   ],
   "source": [
    "regexp = r'([a-z]+)(\\d+)'\n",
    "subject = 'abc123'\n",
    "\n",
    "re.sub(regexp, r'\\2', subject)"
   ]
  },
  {
   "cell_type": "code",
   "execution_count": 113,
   "metadata": {},
   "outputs": [
    {
     "data": {
      "text/plain": [
       "'abc'"
      ]
     },
     "execution_count": 113,
     "metadata": {},
     "output_type": "execute_result"
    }
   ],
   "source": [
    "regexp = r'([a-z]+)(\\d+)'\n",
    "subject = 'abc123'\n",
    "\n",
    "re.sub(regexp, r'\\1', subject)"
   ]
  },
  {
   "cell_type": "code",
   "execution_count": 114,
   "metadata": {},
   "outputs": [
    {
     "data": {
      "text/plain": [
       "'123abc'"
      ]
     },
     "execution_count": 114,
     "metadata": {},
     "output_type": "execute_result"
    }
   ],
   "source": [
    "regexp = r'([a-z]+)(\\d+)'\n",
    "subject = 'abc123'\n",
    "\n",
    "re.sub(regexp, r'\\2\\1', subject)"
   ]
  },
  {
   "cell_type": "code",
   "execution_count": 115,
   "metadata": {},
   "outputs": [
    {
     "data": {
      "text/plain": [
       "0    abc\n",
       "1    abc\n",
       "2       \n",
       "dtype: object"
      ]
     },
     "execution_count": 115,
     "metadata": {},
     "output_type": "execute_result"
    }
   ],
   "source": [
    "#example w/ pandas\n",
    "s.str.replace(r'\\d+', '')"
   ]
  },
  {
   "cell_type": "code",
   "execution_count": 116,
   "metadata": {},
   "outputs": [
    {
     "data": {
      "text/plain": [
       "0    abc\n",
       "1      1\n",
       "2      1\n",
       "dtype: object"
      ]
     },
     "execution_count": 116,
     "metadata": {},
     "output_type": "execute_result"
    }
   ],
   "source": [
    "s.str.replace(r'.*(\\d).*', r'1')"
   ]
  },
  {
   "cell_type": "markdown",
   "metadata": {},
   "source": [
    "<div style=\"background-color: rgba(0, 100, 200, .1); padding: 1em 3em; border-radius: 5px; border: 1px solid black\">\n",
    "    <div style=\"font-weight: bold; font-size: 1.2em; border-bottom: 1px dashed black; padding-bottom: .5em;\">\n",
    "        Mini Exercise\n",
    "    </div>\n",
    "    <p>Use the code below to get started on this exercise.</p>\n",
    "    <pre><code>dates = pd.Series(['2020-11-12', '2020-07-13', '2021-01-12'])</code></pre>\n",
    "    <p>Use regular expression substitution to reformat the dates in the format common in the US: m/d/y.</p>\n",
    "</div>"
   ]
  },
  {
   "cell_type": "code",
   "execution_count": 117,
   "metadata": {},
   "outputs": [
    {
     "data": {
      "text/plain": [
       "0    2020-11-12\n",
       "1    2020-07-13\n",
       "2    2021-01-12\n",
       "dtype: object"
      ]
     },
     "execution_count": 117,
     "metadata": {},
     "output_type": "execute_result"
    }
   ],
   "source": [
    "dates = pd.Series(['2020-11-12', '2020-07-13', '2021-01-12'])\n",
    "dates"
   ]
  },
  {
   "cell_type": "code",
   "execution_count": 118,
   "metadata": {},
   "outputs": [
    {
     "data": {
      "text/plain": [
       "0    \n",
       "1    \n",
       "2    \n",
       "dtype: object"
      ]
     },
     "execution_count": 118,
     "metadata": {},
     "output_type": "execute_result"
    }
   ],
   "source": [
    "#Use regular expression substitution to reformat the dates in the format common in the US: m/d/y.\n",
    "dates.str.replace(r'\\d{4}-\\d{2}-\\d{2}', '')"
   ]
  },
  {
   "cell_type": "code",
   "execution_count": 119,
   "metadata": {},
   "outputs": [
    {
     "data": {
      "text/plain": [
       "0    X\n",
       "1    X\n",
       "2    X\n",
       "dtype: object"
      ]
     },
     "execution_count": 119,
     "metadata": {},
     "output_type": "execute_result"
    }
   ],
   "source": [
    "dates.str.replace(r'\\d{4}-\\d{2}-\\d{2}', 'X')"
   ]
  },
  {
   "cell_type": "code",
   "execution_count": 120,
   "metadata": {},
   "outputs": [
    {
     "data": {
      "text/plain": [
       "0    11\n",
       "1    07\n",
       "2    01\n",
       "dtype: object"
      ]
     },
     "execution_count": 120,
     "metadata": {},
     "output_type": "execute_result"
    }
   ],
   "source": [
    "#add capture groups\n",
    "dates.str.replace(r'(\\d{4})-(\\d{2})-(\\d{2})', r'\\2')"
   ]
  },
  {
   "cell_type": "code",
   "execution_count": 121,
   "metadata": {},
   "outputs": [
    {
     "data": {
      "text/plain": [
       "0    11/2020\n",
       "1    07/2020\n",
       "2    01/2021\n",
       "dtype: object"
      ]
     },
     "execution_count": 121,
     "metadata": {},
     "output_type": "execute_result"
    }
   ],
   "source": [
    "dates.str.replace(r'(\\d{4})-(\\d{2})-(\\d{2})', r'\\2/\\1')"
   ]
  },
  {
   "cell_type": "code",
   "execution_count": 122,
   "metadata": {},
   "outputs": [
    {
     "data": {
      "text/plain": [
       "0    11/12\n",
       "1    07/13\n",
       "2    01/12\n",
       "dtype: object"
      ]
     },
     "execution_count": 122,
     "metadata": {},
     "output_type": "execute_result"
    }
   ],
   "source": [
    "dates.str.replace(r'(\\d{4})-(\\d{2})-(\\d{2})', r'\\2/\\3')"
   ]
  },
  {
   "cell_type": "code",
   "execution_count": 123,
   "metadata": {},
   "outputs": [
    {
     "data": {
      "text/plain": [
       "0    11/12/2020\n",
       "1    07/13/2020\n",
       "2    01/12/2021\n",
       "dtype: object"
      ]
     },
     "execution_count": 123,
     "metadata": {},
     "output_type": "execute_result"
    }
   ],
   "source": [
    "dates.str.replace(r'(\\d{4})-(\\d{2})-(\\d{2})', r'\\2/\\3/\\1')"
   ]
  },
  {
   "cell_type": "markdown",
   "metadata": {},
   "source": [
    "## Misc"
   ]
  },
  {
   "cell_type": "markdown",
   "metadata": {},
   "source": [
    "### Pandas Usage\n",
    "\n",
    "- `.str`\n",
    "    - `.extract`\n",
    "    - `.count`\n",
    "    - `.contains`\n",
    "    - `.replace`\n",
    "- extract + concat\n",
    "- named groups"
   ]
  },
  {
   "cell_type": "code",
   "execution_count": 124,
   "metadata": {},
   "outputs": [
    {
     "data": {
      "text/html": [
       "<div>\n",
       "<style scoped>\n",
       "    .dataframe tbody tr th:only-of-type {\n",
       "        vertical-align: middle;\n",
       "    }\n",
       "\n",
       "    .dataframe tbody tr th {\n",
       "        vertical-align: top;\n",
       "    }\n",
       "\n",
       "    .dataframe thead th {\n",
       "        text-align: right;\n",
       "    }\n",
       "</style>\n",
       "<table border=\"1\" class=\"dataframe\">\n",
       "  <thead>\n",
       "    <tr style=\"text-align: right;\">\n",
       "      <th></th>\n",
       "      <th>text</th>\n",
       "    </tr>\n",
       "  </thead>\n",
       "  <tbody>\n",
       "    <tr>\n",
       "      <th>0</th>\n",
       "      <td>You should go check out https://regex101.com, ...</td>\n",
       "    </tr>\n",
       "    <tr>\n",
       "      <th>1</th>\n",
       "      <td>My favorite search engine is https://duckduckg...</td>\n",
       "    </tr>\n",
       "    <tr>\n",
       "      <th>2</th>\n",
       "      <td>If you have a question, you can get it answere...</td>\n",
       "    </tr>\n",
       "  </tbody>\n",
       "</table>\n",
       "</div>"
      ],
      "text/plain": [
       "                                                text\n",
       "0  You should go check out https://regex101.com, ...\n",
       "1  My favorite search engine is https://duckduckg...\n",
       "2  If you have a question, you can get it answere..."
      ]
     },
     "execution_count": 124,
     "metadata": {},
     "output_type": "execute_result"
    }
   ],
   "source": [
    "df = pd.DataFrame()\n",
    "df['text'] = pd.Series([\n",
    "    'You should go check out https://regex101.com, it is a great website!',\n",
    "    'My favorite search engine is https://duckduckgo.com',\n",
    "    'If you have a question, you can get it answered through http://askjeeves.com, it is great!',\n",
    "])\n",
    "df"
   ]
  },
  {
   "cell_type": "code",
   "execution_count": 125,
   "metadata": {},
   "outputs": [
    {
     "data": {
      "text/html": [
       "<div>\n",
       "<style scoped>\n",
       "    .dataframe tbody tr th:only-of-type {\n",
       "        vertical-align: middle;\n",
       "    }\n",
       "\n",
       "    .dataframe tbody tr th {\n",
       "        vertical-align: top;\n",
       "    }\n",
       "\n",
       "    .dataframe thead th {\n",
       "        text-align: right;\n",
       "    }\n",
       "</style>\n",
       "<table border=\"1\" class=\"dataframe\">\n",
       "  <thead>\n",
       "    <tr style=\"text-align: right;\">\n",
       "      <th></th>\n",
       "      <th>0</th>\n",
       "      <th>1</th>\n",
       "      <th>2</th>\n",
       "    </tr>\n",
       "  </thead>\n",
       "  <tbody>\n",
       "    <tr>\n",
       "      <th>0</th>\n",
       "      <td>https</td>\n",
       "      <td>regex101</td>\n",
       "      <td>com</td>\n",
       "    </tr>\n",
       "    <tr>\n",
       "      <th>1</th>\n",
       "      <td>https</td>\n",
       "      <td>duckduckgo</td>\n",
       "      <td>com</td>\n",
       "    </tr>\n",
       "    <tr>\n",
       "      <th>2</th>\n",
       "      <td>http</td>\n",
       "      <td>askjeeves</td>\n",
       "      <td>com</td>\n",
       "    </tr>\n",
       "  </tbody>\n",
       "</table>\n",
       "</div>"
      ],
      "text/plain": [
       "       0           1    2\n",
       "0  https    regex101  com\n",
       "1  https  duckduckgo  com\n",
       "2   http   askjeeves  com"
      ]
     },
     "execution_count": 125,
     "metadata": {},
     "output_type": "execute_result"
    }
   ],
   "source": [
    "df.text.str.extract(r'(https?)://(\\w+)\\.(\\w+)')"
   ]
  },
  {
   "cell_type": "markdown",
   "metadata": {},
   "source": [
    "### Interactive Regex Tool\n",
    "\n",
    "To install the `hlre` tool:\n",
    "\n",
    "```\n",
    "python -m pip install hlre\n",
    "```\n",
    "\n",
    "[For more documentation and the source](https://github.com/zgulde/hlre)\n",
    "\n",
    "See also [regex101](https://regex101.com) (make sure to select the Python flavor)"
   ]
  },
  {
   "cell_type": "markdown",
   "metadata": {},
   "source": [
    "### Named capture groups"
   ]
  },
  {
   "cell_type": "code",
   "execution_count": 126,
   "metadata": {},
   "outputs": [
    {
     "data": {
      "text/plain": [
       "{'protocol': 'https', 'base_domain': 'regex101', 'tld': 'com'}"
      ]
     },
     "execution_count": 126,
     "metadata": {},
     "output_type": "execute_result"
    }
   ],
   "source": [
    "text = 'You should go check out https://regex101.com, it is a great website!'\n",
    "\n",
    "match = re.search(r'(?P<protocol>https?)://(?P<base_domain>\\w+)\\.(?P<tld>\\w+)', text)\n",
    "match.groupdict()"
   ]
  },
  {
   "cell_type": "code",
   "execution_count": 127,
   "metadata": {},
   "outputs": [
    {
     "data": {
      "text/html": [
       "<div>\n",
       "<style scoped>\n",
       "    .dataframe tbody tr th:only-of-type {\n",
       "        vertical-align: middle;\n",
       "    }\n",
       "\n",
       "    .dataframe tbody tr th {\n",
       "        vertical-align: top;\n",
       "    }\n",
       "\n",
       "    .dataframe thead th {\n",
       "        text-align: right;\n",
       "    }\n",
       "</style>\n",
       "<table border=\"1\" class=\"dataframe\">\n",
       "  <thead>\n",
       "    <tr style=\"text-align: right;\">\n",
       "      <th></th>\n",
       "      <th>protocol</th>\n",
       "      <th>base_domain</th>\n",
       "      <th>tld</th>\n",
       "    </tr>\n",
       "  </thead>\n",
       "  <tbody>\n",
       "    <tr>\n",
       "      <th>0</th>\n",
       "      <td>https</td>\n",
       "      <td>regex101</td>\n",
       "      <td>com</td>\n",
       "    </tr>\n",
       "    <tr>\n",
       "      <th>1</th>\n",
       "      <td>https</td>\n",
       "      <td>duckduckgo</td>\n",
       "      <td>com</td>\n",
       "    </tr>\n",
       "    <tr>\n",
       "      <th>2</th>\n",
       "      <td>http</td>\n",
       "      <td>askjeeves</td>\n",
       "      <td>com</td>\n",
       "    </tr>\n",
       "  </tbody>\n",
       "</table>\n",
       "</div>"
      ],
      "text/plain": [
       "  protocol base_domain  tld\n",
       "0    https    regex101  com\n",
       "1    https  duckduckgo  com\n",
       "2     http   askjeeves  com"
      ]
     },
     "execution_count": 127,
     "metadata": {},
     "output_type": "execute_result"
    }
   ],
   "source": [
    "df.text.str.extract(r'(?P<protocol>https?)://(?P<base_domain>\\w+)\\.(?P<tld>\\w+)')"
   ]
  },
  {
   "cell_type": "markdown",
   "metadata": {},
   "source": [
    "### Verbose regular expressions"
   ]
  },
  {
   "cell_type": "markdown",
   "metadata": {},
   "source": [
    "- `re.VERBOSE`\n",
    "- `(?# this is a comment)`"
   ]
  },
  {
   "cell_type": "code",
   "execution_count": 128,
   "metadata": {},
   "outputs": [
    {
     "data": {
      "text/plain": [
       "{'protocol': 'https', 'base_domain': 'regex101', 'tld': 'com'}"
      ]
     },
     "execution_count": 128,
     "metadata": {},
     "output_type": "execute_result"
    }
   ],
   "source": [
    "text = 'You should go check out https://regex101.com, it is a great website!'\n",
    "\n",
    "regexp = r'''\n",
    "(?P<protocol>https?)\n",
    ":// (?# ignore the :// that seperates protocol from domain)\n",
    "(?P<base_domain>\\w+)\n",
    "\\.\n",
    "(?P<tld>\\w+)\n",
    "'''\n",
    "match = re.search(regexp, text, re.VERBOSE) # whitespace in the regex is ignored\n",
    "match.groupdict()"
   ]
  }
 ],
 "metadata": {
  "kernelspec": {
   "display_name": "Python 3",
   "language": "python",
   "name": "python3"
  },
  "language_info": {
   "codemirror_mode": {
    "name": "ipython",
    "version": 3
   },
   "file_extension": ".py",
   "mimetype": "text/x-python",
   "name": "python",
   "nbconvert_exporter": "python",
   "pygments_lexer": "ipython3",
   "version": "3.8.5"
  }
 },
 "nbformat": 4,
 "nbformat_minor": 4
}
