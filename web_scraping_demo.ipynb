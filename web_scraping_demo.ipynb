{
 "cells": [
  {
   "cell_type": "code",
   "execution_count": 126,
   "metadata": {},
   "outputs": [],
   "source": [
    "import pandas as pd\n",
    "\n",
    "import requests\n",
    "import bs4"
   ]
  },
  {
   "cell_type": "markdown",
   "metadata": {},
   "source": [
    "## Extracting News Articles\n",
    "(https://web-scraping-demo.zgulde.net/news)"
   ]
  },
  {
   "cell_type": "code",
   "execution_count": 7,
   "metadata": {},
   "outputs": [],
   "source": [
    "# make the http request and turn the response into a beautiful soup object\n",
    "response = requests.get('https://web-scraping-demo.zgulde.net/news')\n",
    "html = response.text\n",
    "soup = bs4.BeautifulSoup(html)"
   ]
  },
  {
   "cell_type": "markdown",
   "metadata": {},
   "source": [
    "1. Find the container for the information we want `article_container`\n",
    "1. Within the container, identify the entities that we want to produce a list\n",
    "1. Process each individual entity (identify the pieces that we want and extract them)"
   ]
  },
  {
   "cell_type": "code",
   "execution_count": 12,
   "metadata": {},
   "outputs": [],
   "source": [
    "article_container = soup.select('.grid.gap-y-12')[0]"
   ]
  },
  {
   "cell_type": "code",
   "execution_count": 19,
   "metadata": {},
   "outputs": [],
   "source": [
    "articles = article_container.select('.grid.grid-cols-4.gap-x-4.border')"
   ]
  },
  {
   "cell_type": "code",
   "execution_count": 24,
   "metadata": {},
   "outputs": [
    {
     "name": "stdout",
     "output_type": "stream",
     "text": [
      "<div class=\"grid grid-cols-4 gap-x-4 border rounded pr-3 bg-green-50 hover:shadow-lg transition duration-500\">\n",
      " <img src=\"/static/placeholder.png\"/>\n",
      " <div class=\"col-span-3 space-y-3 py-3\">\n",
      "  <h2 class=\"text-2xl text-green-900\">\n",
      "   help human fly\n",
      "  </h2>\n",
      "  <div class=\"grid grid-cols-2 italic\">\n",
      "   <p>\n",
      "    1989-11-04\n",
      "   </p>\n",
      "   <p class=\"text-right\">\n",
      "    By Stephanie Mendoza\n",
      "   </p>\n",
      "  </div>\n",
      "  <p>\n",
      "   Song learn day party. Nor again between knowledge.\n",
      "Reach exist huge. Role each process receive role inside around safe. Simple these understand main specific guy.\n",
      "  </p>\n",
      " </div>\n",
      "</div>\n",
      "\n"
     ]
    }
   ],
   "source": [
    "article = articles[0]\n",
    "# get a pretty printed representation of our element\n",
    "print(article.prettify())"
   ]
  },
  {
   "cell_type": "markdown",
   "metadata": {},
   "source": [
    "`.select` vs `.find` or `.find_all`\n",
    "\n",
    "- `.select` always gives back a list, sometimes the list is empty, sometimes it has a single element, sometimes it has multiple elements\n",
    "- `.find` and `.find_all` accept a *tag name*\n",
    "- `.find` returns a single element\n",
    "- `.find_all` returns a list of elements\n",
    "- With `.select` multiple class names each have a `.` in front of them\n",
    "- With `.find` or `.find_all` you can use a `class_` keyword argument, but the classes must match exactly"
   ]
  },
  {
   "cell_type": "code",
   "execution_count": 53,
   "metadata": {},
   "outputs": [
    {
     "data": {
      "text/plain": [
       "<div class=\"grid grid-cols-2 italic\">\n",
       "<p> 1989-11-04 </p>\n",
       "<p class=\"text-right\">By Stephanie Mendoza </p>\n",
       "</div>"
      ]
     },
     "execution_count": 53,
     "metadata": {},
     "output_type": "execute_result"
    }
   ],
   "source": [
    "article.find('div', class_='grid grid-cols-2 italic')"
   ]
  },
  {
   "cell_type": "code",
   "execution_count": 41,
   "metadata": {},
   "outputs": [],
   "source": [
    "def process_article(article):\n",
    "    title = article.find('h2').text\n",
    "    date_and_byline_div = article.select('.grid.grid-cols-2.italic')[0]\n",
    "    date_p, by_p = date_and_byline_div.find_all('p')\n",
    "    summary = article.find_all('p')[-1].text\n",
    "    \n",
    "    return {\n",
    "        \"title\": title,\n",
    "        \"date\": date_p.text,\n",
    "        \"by\": by_p.text,\n",
    "        \"summary\": summary\n",
    "    }"
   ]
  },
  {
   "cell_type": "code",
   "execution_count": 46,
   "metadata": {},
   "outputs": [
    {
     "data": {
      "text/plain": [
       "{'title': 'energy plan go',\n",
       " 'date': ' 1973-10-24 ',\n",
       " 'by': 'By James Serrano ',\n",
       " 'summary': 'Back certain democratic still. Ready power begin medical security energy.\\nPrepare nature hotel Republican see onto statement. Artist foreign space dinner.'}"
      ]
     },
     "execution_count": 46,
     "metadata": {},
     "output_type": "execute_result"
    }
   ],
   "source": [
    "process_article(articles[3])"
   ]
  },
  {
   "cell_type": "code",
   "execution_count": 49,
   "metadata": {},
   "outputs": [
    {
     "data": {
      "text/html": [
       "<div>\n",
       "<style scoped>\n",
       "    .dataframe tbody tr th:only-of-type {\n",
       "        vertical-align: middle;\n",
       "    }\n",
       "\n",
       "    .dataframe tbody tr th {\n",
       "        vertical-align: top;\n",
       "    }\n",
       "\n",
       "    .dataframe thead th {\n",
       "        text-align: right;\n",
       "    }\n",
       "</style>\n",
       "<table border=\"1\" class=\"dataframe\">\n",
       "  <thead>\n",
       "    <tr style=\"text-align: right;\">\n",
       "      <th></th>\n",
       "      <th>title</th>\n",
       "      <th>date</th>\n",
       "      <th>by</th>\n",
       "      <th>summary</th>\n",
       "    </tr>\n",
       "  </thead>\n",
       "  <tbody>\n",
       "    <tr>\n",
       "      <th>0</th>\n",
       "      <td>help human fly</td>\n",
       "      <td>1989-11-04</td>\n",
       "      <td>By Stephanie Mendoza</td>\n",
       "      <td>Song learn day party. Nor again between knowle...</td>\n",
       "    </tr>\n",
       "    <tr>\n",
       "      <th>1</th>\n",
       "      <td>serious generation vote</td>\n",
       "      <td>2016-08-08</td>\n",
       "      <td>By Amy Collier</td>\n",
       "      <td>Upon watch attention first could not. Religiou...</td>\n",
       "    </tr>\n",
       "    <tr>\n",
       "      <th>2</th>\n",
       "      <td>couple hold these</td>\n",
       "      <td>1985-09-04</td>\n",
       "      <td>By Cody Davis</td>\n",
       "      <td>Significant card should whole stage. Part cont...</td>\n",
       "    </tr>\n",
       "    <tr>\n",
       "      <th>3</th>\n",
       "      <td>energy plan go</td>\n",
       "      <td>1973-10-24</td>\n",
       "      <td>By James Serrano</td>\n",
       "      <td>Back certain democratic still. Ready power beg...</td>\n",
       "    </tr>\n",
       "    <tr>\n",
       "      <th>4</th>\n",
       "      <td>wish may final</td>\n",
       "      <td>2020-10-06</td>\n",
       "      <td>By Ryan Baker</td>\n",
       "      <td>High hard quite approach threat. Feel nice sur...</td>\n",
       "    </tr>\n",
       "    <tr>\n",
       "      <th>5</th>\n",
       "      <td>sense plant tend</td>\n",
       "      <td>1979-04-18</td>\n",
       "      <td>By Brian Pugh</td>\n",
       "      <td>Back do team. Sell good strategy third includi...</td>\n",
       "    </tr>\n",
       "    <tr>\n",
       "      <th>6</th>\n",
       "      <td>fire down report</td>\n",
       "      <td>2015-10-04</td>\n",
       "      <td>By Andrew Gould</td>\n",
       "      <td>World author popular laugh. Wind message whole...</td>\n",
       "    </tr>\n",
       "    <tr>\n",
       "      <th>7</th>\n",
       "      <td>tough history can</td>\n",
       "      <td>1983-04-13</td>\n",
       "      <td>By Stephanie Andrews</td>\n",
       "      <td>Will summer huge blue statement. Reason later ...</td>\n",
       "    </tr>\n",
       "    <tr>\n",
       "      <th>8</th>\n",
       "      <td>he start time</td>\n",
       "      <td>1991-12-13</td>\n",
       "      <td>By Alicia Clark</td>\n",
       "      <td>Trip tonight skill garden even mention price. ...</td>\n",
       "    </tr>\n",
       "    <tr>\n",
       "      <th>9</th>\n",
       "      <td>matter low including</td>\n",
       "      <td>2016-06-14</td>\n",
       "      <td>By Brian Hodges</td>\n",
       "      <td>Small more rock candidate five without these. ...</td>\n",
       "    </tr>\n",
       "    <tr>\n",
       "      <th>10</th>\n",
       "      <td>conference themselves including</td>\n",
       "      <td>1979-12-03</td>\n",
       "      <td>By Rickey Hernandez</td>\n",
       "      <td>Kind case director. Stay rest return usually c...</td>\n",
       "    </tr>\n",
       "    <tr>\n",
       "      <th>11</th>\n",
       "      <td>become can fish</td>\n",
       "      <td>2002-09-17</td>\n",
       "      <td>By Kimberly Williams</td>\n",
       "      <td>More network risk choose from fast. Must centr...</td>\n",
       "    </tr>\n",
       "  </tbody>\n",
       "</table>\n",
       "</div>"
      ],
      "text/plain": [
       "                              title          date                     by  \\\n",
       "0                    help human fly   1989-11-04   By Stephanie Mendoza    \n",
       "1           serious generation vote   2016-08-08         By Amy Collier    \n",
       "2                 couple hold these   1985-09-04          By Cody Davis    \n",
       "3                    energy plan go   1973-10-24       By James Serrano    \n",
       "4                    wish may final   2020-10-06          By Ryan Baker    \n",
       "5                  sense plant tend   1979-04-18          By Brian Pugh    \n",
       "6                  fire down report   2015-10-04        By Andrew Gould    \n",
       "7                 tough history can   1983-04-13   By Stephanie Andrews    \n",
       "8                     he start time   1991-12-13        By Alicia Clark    \n",
       "9              matter low including   2016-06-14        By Brian Hodges    \n",
       "10  conference themselves including   1979-12-03    By Rickey Hernandez    \n",
       "11                  become can fish   2002-09-17   By Kimberly Williams    \n",
       "\n",
       "                                              summary  \n",
       "0   Song learn day party. Nor again between knowle...  \n",
       "1   Upon watch attention first could not. Religiou...  \n",
       "2   Significant card should whole stage. Part cont...  \n",
       "3   Back certain democratic still. Ready power beg...  \n",
       "4   High hard quite approach threat. Feel nice sur...  \n",
       "5   Back do team. Sell good strategy third includi...  \n",
       "6   World author popular laugh. Wind message whole...  \n",
       "7   Will summer huge blue statement. Reason later ...  \n",
       "8   Trip tonight skill garden even mention price. ...  \n",
       "9   Small more rock candidate five without these. ...  \n",
       "10  Kind case director. Stay rest return usually c...  \n",
       "11  More network risk choose from fast. Must centr...  "
      ]
     },
     "execution_count": 49,
     "metadata": {},
     "output_type": "execute_result"
    }
   ],
   "source": [
    "pd.DataFrame([process_article(article) for article in articles])"
   ]
  },
  {
   "cell_type": "markdown",
   "metadata": {},
   "source": [
    "## Extracting People Information\n",
    "(https://web-scraping-demo.zgulde.net/people)"
   ]
  },
  {
   "cell_type": "code",
   "execution_count": 6,
   "metadata": {},
   "outputs": [],
   "source": [
    "response = requests.get('https://web-scraping-demo.zgulde.net/people')\n",
    "\n",
    "html = response.text\n",
    "\n",
    "soup = bs4.BeautifulSoup(html)\n"
   ]
  },
  {
   "cell_type": "code",
   "execution_count": 9,
   "metadata": {},
   "outputs": [],
   "source": [
    "people_container = soup.select('.grid.grid-cols-2.gap-x-12.gap-y-16')[0]"
   ]
  },
  {
   "cell_type": "code",
   "execution_count": 65,
   "metadata": {},
   "outputs": [],
   "source": [
    "people = people_container.select('.person.border.rounded.px-3.py-5.grid.grid-cols-2.gap-x-3')"
   ]
  },
  {
   "cell_type": "code",
   "execution_count": 99,
   "metadata": {},
   "outputs": [
    {
     "data": {
      "text/plain": [
       "<div class=\"person border rounded px-3 py-5 grid grid-cols-2 gap-x-3 bg-purple-50 hover:shadow-lg transition duration-500\">\n",
       "<h2 class=\"text-2xl text-purple-800 name col-span-full border-b\">Curtis Jackson</h2>\n",
       "<p class=\"quote col-span-full px-5 py-5 text-center text-gray-500\">\n",
       "            \"Integrated contextually-based analyzer\"\n",
       "        </p>\n",
       "<div class=\"grid grid-cols-9\">\n",
       "<i class=\"bi bi-envelope-fill text-purple-800\"></i>\n",
       "<p class=\"email col-span-8\">jeremiahharris@robertson.com</p>\n",
       "<i class=\"bi bi-telephone-fill text-purple-800\"></i>\n",
       "<p class=\"phone col-span-8\">+1-054-107-2461</p>\n",
       "</div>\n",
       "<div class=\"address grid grid-cols-9\">\n",
       "<i class=\"bi bi-geo-fill text-purple-800\"></i>\n",
       "<p class=\"col-span-8\">\n",
       "                39971 Johnson Mission <br/>\n",
       "                West Alexander, WV 24725\n",
       "            </p>\n",
       "</div>\n",
       "</div>"
      ]
     },
     "execution_count": 99,
     "metadata": {},
     "output_type": "execute_result"
    }
   ],
   "source": [
    "person = people[0]\n",
    "person"
   ]
  },
  {
   "cell_type": "code",
   "execution_count": 100,
   "metadata": {},
   "outputs": [
    {
     "data": {
      "text/plain": [
       "'\\nCurtis Jackson\\n\\n            \"Integrated contextually-based analyzer\"\\n        \\n\\n\\njeremiahharris@robertson.com\\n\\n+1-054-107-2461\\n\\n\\n\\n\\n                39971 Johnson Mission \\n                West Alexander, WV 24725\\n            \\n\\n'"
      ]
     },
     "execution_count": 100,
     "metadata": {},
     "output_type": "execute_result"
    }
   ],
   "source": [
    "people[0].text"
   ]
  },
  {
   "cell_type": "code",
   "execution_count": 101,
   "metadata": {},
   "outputs": [
    {
     "name": "stdout",
     "output_type": "stream",
     "text": [
      "\n",
      "Curtis Jackson\n",
      "\n",
      "            \"Integrated contextually-based analyzer\"\n",
      "        \n",
      "\n",
      "\n",
      "jeremiahharris@robertson.com\n",
      "\n",
      "+1-054-107-2461\n",
      "\n",
      "\n",
      "\n",
      "\n",
      "                39971 Johnson Mission \n",
      "                West Alexander, WV 24725\n",
      "            \n",
      "\n",
      "\n"
     ]
    }
   ],
   "source": [
    "print(people[0].text)"
   ]
  },
  {
   "cell_type": "code",
   "execution_count": 102,
   "metadata": {},
   "outputs": [
    {
     "data": {
      "text/plain": [
       "'Curtis Jackson'"
      ]
     },
     "execution_count": 102,
     "metadata": {},
     "output_type": "execute_result"
    }
   ],
   "source": [
    "name = person.find('h2').text\n",
    "name"
   ]
  },
  {
   "cell_type": "code",
   "execution_count": 103,
   "metadata": {},
   "outputs": [
    {
     "data": {
      "text/plain": [
       "'\"Integrated contextually-based analyzer\"'"
      ]
     },
     "execution_count": 103,
     "metadata": {},
     "output_type": "execute_result"
    }
   ],
   "source": [
    "quote = person.find('p').text.strip()\n",
    "quote"
   ]
  },
  {
   "cell_type": "code",
   "execution_count": 104,
   "metadata": {},
   "outputs": [],
   "source": [
    "info_div = person.select('.grid.grid-cols-9')[0]\n",
    "email, phone = info_div.find_all('p')"
   ]
  },
  {
   "cell_type": "code",
   "execution_count": 105,
   "metadata": {},
   "outputs": [
    {
     "data": {
      "text/plain": [
       "'jeremiahharris@robertson.com'"
      ]
     },
     "execution_count": 105,
     "metadata": {},
     "output_type": "execute_result"
    }
   ],
   "source": [
    "email.text"
   ]
  },
  {
   "cell_type": "code",
   "execution_count": 106,
   "metadata": {},
   "outputs": [
    {
     "data": {
      "text/plain": [
       "'+1-054-107-2461'"
      ]
     },
     "execution_count": 106,
     "metadata": {},
     "output_type": "execute_result"
    }
   ],
   "source": [
    "phone.text"
   ]
  },
  {
   "cell_type": "code",
   "execution_count": 107,
   "metadata": {},
   "outputs": [],
   "source": [
    "address_div = person.select('.address.grid.grid-cols-9')[0]\n",
    "address = address_div.find('p').text.strip()"
   ]
  },
  {
   "cell_type": "code",
   "execution_count": 108,
   "metadata": {},
   "outputs": [
    {
     "data": {
      "text/plain": [
       "'39971 Johnson Mission \\n                West Alexander, WV 24725'"
      ]
     },
     "execution_count": 108,
     "metadata": {},
     "output_type": "execute_result"
    }
   ],
   "source": [
    "address"
   ]
  },
  {
   "cell_type": "code",
   "execution_count": 109,
   "metadata": {},
   "outputs": [
    {
     "data": {
      "text/plain": [
       "{'name': 'Curtis Jackson',\n",
       " 'quote': '\"Integrated contextually-based analyzer\"',\n",
       " 'email': <p class=\"email col-span-8\">jeremiahharris@robertson.com</p>,\n",
       " 'phone': <p class=\"phone col-span-8\">+1-054-107-2461</p>,\n",
       " 'address': '39971 Johnson Mission \\n                West Alexander, WV 24725'}"
      ]
     },
     "execution_count": 109,
     "metadata": {},
     "output_type": "execute_result"
    }
   ],
   "source": [
    "{\n",
    "        \"name\": name,\n",
    "        \"quote\": quote,\n",
    "        \"email\": email,\n",
    "        \"phone\": phone,\n",
    "        \"address\": address\n",
    "    }"
   ]
  },
  {
   "cell_type": "code",
   "execution_count": 115,
   "metadata": {},
   "outputs": [],
   "source": [
    "def process_person(person):\n",
    "    name = person.find('h2').text\n",
    "    quote = person.find('p').text.strip()\n",
    "    info_div = person.select('.grid.grid-cols-9')[0]\n",
    "    email, phone = info_div.find_all('p')\n",
    "    address_div = person.select('.address.grid.grid-cols-9')[0]\n",
    "    address = address_div.find('p').text.strip()\n",
    "    \n",
    "    return {\n",
    "        \"name\": name,\n",
    "        \"quote\": quote,\n",
    "        \"email\": email,\n",
    "        \"phone\": phone,\n",
    "        \"address\": address\n",
    "    }"
   ]
  },
  {
   "cell_type": "code",
   "execution_count": 119,
   "metadata": {},
   "outputs": [
    {
     "data": {
      "text/plain": [
       "{'name': 'Curtis Jackson',\n",
       " 'quote': '\"Integrated contextually-based analyzer\"',\n",
       " 'email': <p class=\"email col-span-8\">jeremiahharris@robertson.com</p>,\n",
       " 'phone': <p class=\"phone col-span-8\">+1-054-107-2461</p>,\n",
       " 'address': '39971 Johnson Mission \\n                West Alexander, WV 24725'}"
      ]
     },
     "execution_count": 119,
     "metadata": {},
     "output_type": "execute_result"
    }
   ],
   "source": [
    "process_person(people[0])"
   ]
  },
  {
   "cell_type": "code",
   "execution_count": 120,
   "metadata": {},
   "outputs": [
    {
     "data": {
      "text/plain": [
       "<!DOCTYPE html>\n",
       "<html lang=\"en\">\n",
       "<head>\n",
       "<meta charset=\"utf-8\"/>\n",
       "<meta content=\"IE=edge\" http-equiv=\"X-UA-Compatible\"/>\n",
       "<meta content=\"width=device-width, initial-scale=1.0\" name=\"viewport\"/>\n",
       "<title>Example People Page</title>\n",
       "<link href=\"https://unpkg.com/tailwindcss@^2/dist/tailwind.min.css\" rel=\"stylesheet\"/>\n",
       "<link href=\"https://cdn.jsdelivr.net/npm/bootstrap-icons@1.4.1/font/bootstrap-icons.css\" rel=\"stylesheet\"/>\n",
       "</head>\n",
       "<body class=\"mx-auto max-w-screen-lg pb-32\">\n",
       "<h1 class=\"my-5 text-4xl text-center\">People</h1>\n",
       "<div class=\"my-5 text-red-800 px-5 py-3 bg-red-100 font-bold\">\n",
       "<p>\n",
       "<i class=\"bi bi-exclamation-circle text-xl\"></i>\n",
       "        All data on this page is strictly for demonstration purposes and fake.\n",
       "    </p>\n",
       "</div>\n",
       "<div class=\"grid grid-cols-2 gap-x-12 gap-y-16\" id=\"people\">\n",
       "<div class=\"person border rounded px-3 py-5 grid grid-cols-2 gap-x-3 bg-purple-50 hover:shadow-lg transition duration-500\">\n",
       "<h2 class=\"text-2xl text-purple-800 name col-span-full border-b\">Dennis Mcmahon</h2>\n",
       "<p class=\"quote col-span-full px-5 py-5 text-center text-gray-500\">\n",
       "            \"Right-sized systemic definition\"\n",
       "        </p>\n",
       "<div class=\"grid grid-cols-9\">\n",
       "<i class=\"bi bi-envelope-fill text-purple-800\"></i>\n",
       "<p class=\"email col-span-8\">kelly14@hotmail.com</p>\n",
       "<i class=\"bi bi-telephone-fill text-purple-800\"></i>\n",
       "<p class=\"phone col-span-8\">151.446.9246</p>\n",
       "</div>\n",
       "<div class=\"address grid grid-cols-9\">\n",
       "<i class=\"bi bi-geo-fill text-purple-800\"></i>\n",
       "<p class=\"col-span-8\">\n",
       "                888 Andrea Junctions <br/>\n",
       "                North Hayleytown, IA 47016\n",
       "            </p>\n",
       "</div>\n",
       "</div>\n",
       "<div class=\"person border rounded px-3 py-5 grid grid-cols-2 gap-x-3 bg-purple-50 hover:shadow-lg transition duration-500\">\n",
       "<h2 class=\"text-2xl text-purple-800 name col-span-full border-b\">Kayla Grant</h2>\n",
       "<p class=\"quote col-span-full px-5 py-5 text-center text-gray-500\">\n",
       "            \"Persistent value-added focus group\"\n",
       "        </p>\n",
       "<div class=\"grid grid-cols-9\">\n",
       "<i class=\"bi bi-envelope-fill text-purple-800\"></i>\n",
       "<p class=\"email col-span-8\">jacksonmark@hotmail.com</p>\n",
       "<i class=\"bi bi-telephone-fill text-purple-800\"></i>\n",
       "<p class=\"phone col-span-8\">043.171.9253x053</p>\n",
       "</div>\n",
       "<div class=\"address grid grid-cols-9\">\n",
       "<i class=\"bi bi-geo-fill text-purple-800\"></i>\n",
       "<p class=\"col-span-8\">\n",
       "                60177 Gloria Harbor <br/>\n",
       "                Ayersmouth, MO 62400\n",
       "            </p>\n",
       "</div>\n",
       "</div>\n",
       "<div class=\"person border rounded px-3 py-5 grid grid-cols-2 gap-x-3 bg-purple-50 hover:shadow-lg transition duration-500\">\n",
       "<h2 class=\"text-2xl text-purple-800 name col-span-full border-b\">Joseph Kim</h2>\n",
       "<p class=\"quote col-span-full px-5 py-5 text-center text-gray-500\">\n",
       "            \"Grass-roots reciprocal intranet\"\n",
       "        </p>\n",
       "<div class=\"grid grid-cols-9\">\n",
       "<i class=\"bi bi-envelope-fill text-purple-800\"></i>\n",
       "<p class=\"email col-span-8\">tinamack@wallace.com</p>\n",
       "<i class=\"bi bi-telephone-fill text-purple-800\"></i>\n",
       "<p class=\"phone col-span-8\">001-040-827-7230x64133</p>\n",
       "</div>\n",
       "<div class=\"address grid grid-cols-9\">\n",
       "<i class=\"bi bi-geo-fill text-purple-800\"></i>\n",
       "<p class=\"col-span-8\">\n",
       "                1145 Brown Mills Apt. 283 <br/>\n",
       "                Jeffreyton, MA 81942\n",
       "            </p>\n",
       "</div>\n",
       "</div>\n",
       "<div class=\"person border rounded px-3 py-5 grid grid-cols-2 gap-x-3 bg-purple-50 hover:shadow-lg transition duration-500\">\n",
       "<h2 class=\"text-2xl text-purple-800 name col-span-full border-b\">Nicholas Medina</h2>\n",
       "<p class=\"quote col-span-full px-5 py-5 text-center text-gray-500\">\n",
       "            \"Re-engineered radical open architecture\"\n",
       "        </p>\n",
       "<div class=\"grid grid-cols-9\">\n",
       "<i class=\"bi bi-envelope-fill text-purple-800\"></i>\n",
       "<p class=\"email col-span-8\">madeline29@marquez.com</p>\n",
       "<i class=\"bi bi-telephone-fill text-purple-800\"></i>\n",
       "<p class=\"phone col-span-8\">753.274.5992x35738</p>\n",
       "</div>\n",
       "<div class=\"address grid grid-cols-9\">\n",
       "<i class=\"bi bi-geo-fill text-purple-800\"></i>\n",
       "<p class=\"col-span-8\">\n",
       "                5035 Maria Pine <br/>\n",
       "                Lake Oliviachester, MO 94597\n",
       "            </p>\n",
       "</div>\n",
       "</div>\n",
       "<div class=\"person border rounded px-3 py-5 grid grid-cols-2 gap-x-3 bg-purple-50 hover:shadow-lg transition duration-500\">\n",
       "<h2 class=\"text-2xl text-purple-800 name col-span-full border-b\">Ann Kelly</h2>\n",
       "<p class=\"quote col-span-full px-5 py-5 text-center text-gray-500\">\n",
       "            \"Automated executive help-desk\"\n",
       "        </p>\n",
       "<div class=\"grid grid-cols-9\">\n",
       "<i class=\"bi bi-envelope-fill text-purple-800\"></i>\n",
       "<p class=\"email col-span-8\">grogers@hotmail.com</p>\n",
       "<i class=\"bi bi-telephone-fill text-purple-800\"></i>\n",
       "<p class=\"phone col-span-8\">1156385171</p>\n",
       "</div>\n",
       "<div class=\"address grid grid-cols-9\">\n",
       "<i class=\"bi bi-geo-fill text-purple-800\"></i>\n",
       "<p class=\"col-span-8\">\n",
       "                997 Kelly Crossing Apt. 233 <br/>\n",
       "                New Veronicastad, WV 72183\n",
       "            </p>\n",
       "</div>\n",
       "</div>\n",
       "<div class=\"person border rounded px-3 py-5 grid grid-cols-2 gap-x-3 bg-purple-50 hover:shadow-lg transition duration-500\">\n",
       "<h2 class=\"text-2xl text-purple-800 name col-span-full border-b\">Suzanne Nunez</h2>\n",
       "<p class=\"quote col-span-full px-5 py-5 text-center text-gray-500\">\n",
       "            \"Customizable next generation customer loyalty\"\n",
       "        </p>\n",
       "<div class=\"grid grid-cols-9\">\n",
       "<i class=\"bi bi-envelope-fill text-purple-800\"></i>\n",
       "<p class=\"email col-span-8\">pthompson@gmail.com</p>\n",
       "<i class=\"bi bi-telephone-fill text-purple-800\"></i>\n",
       "<p class=\"phone col-span-8\">(606)148-4385</p>\n",
       "</div>\n",
       "<div class=\"address grid grid-cols-9\">\n",
       "<i class=\"bi bi-geo-fill text-purple-800\"></i>\n",
       "<p class=\"col-span-8\">\n",
       "                7152 Moore Run <br/>\n",
       "                North Marcustown, AL 16502\n",
       "            </p>\n",
       "</div>\n",
       "</div>\n",
       "<div class=\"person border rounded px-3 py-5 grid grid-cols-2 gap-x-3 bg-purple-50 hover:shadow-lg transition duration-500\">\n",
       "<h2 class=\"text-2xl text-purple-800 name col-span-full border-b\">Christopher Martin</h2>\n",
       "<p class=\"quote col-span-full px-5 py-5 text-center text-gray-500\">\n",
       "            \"Exclusive systemic toolset\"\n",
       "        </p>\n",
       "<div class=\"grid grid-cols-9\">\n",
       "<i class=\"bi bi-envelope-fill text-purple-800\"></i>\n",
       "<p class=\"email col-span-8\">alejandrostein@yahoo.com</p>\n",
       "<i class=\"bi bi-telephone-fill text-purple-800\"></i>\n",
       "<p class=\"phone col-span-8\">2895916944</p>\n",
       "</div>\n",
       "<div class=\"address grid grid-cols-9\">\n",
       "<i class=\"bi bi-geo-fill text-purple-800\"></i>\n",
       "<p class=\"col-span-8\">\n",
       "                18842 Sheila Path Apt. 818 <br/>\n",
       "                South Michael, AZ 36387\n",
       "            </p>\n",
       "</div>\n",
       "</div>\n",
       "<div class=\"person border rounded px-3 py-5 grid grid-cols-2 gap-x-3 bg-purple-50 hover:shadow-lg transition duration-500\">\n",
       "<h2 class=\"text-2xl text-purple-800 name col-span-full border-b\">Paula Jimenez</h2>\n",
       "<p class=\"quote col-span-full px-5 py-5 text-center text-gray-500\">\n",
       "            \"Expanded clear-thinking moderator\"\n",
       "        </p>\n",
       "<div class=\"grid grid-cols-9\">\n",
       "<i class=\"bi bi-envelope-fill text-purple-800\"></i>\n",
       "<p class=\"email col-span-8\">regina56@rhodes-lyons.info</p>\n",
       "<i class=\"bi bi-telephone-fill text-purple-800\"></i>\n",
       "<p class=\"phone col-span-8\">001-702-073-5056</p>\n",
       "</div>\n",
       "<div class=\"address grid grid-cols-9\">\n",
       "<i class=\"bi bi-geo-fill text-purple-800\"></i>\n",
       "<p class=\"col-span-8\">\n",
       "                0460 Sarah Locks <br/>\n",
       "                West Stephanie, SD 89031\n",
       "            </p>\n",
       "</div>\n",
       "</div>\n",
       "<div class=\"person border rounded px-3 py-5 grid grid-cols-2 gap-x-3 bg-purple-50 hover:shadow-lg transition duration-500\">\n",
       "<h2 class=\"text-2xl text-purple-800 name col-span-full border-b\">April West</h2>\n",
       "<p class=\"quote col-span-full px-5 py-5 text-center text-gray-500\">\n",
       "            \"Grass-roots encompassing process improvement\"\n",
       "        </p>\n",
       "<div class=\"grid grid-cols-9\">\n",
       "<i class=\"bi bi-envelope-fill text-purple-800\"></i>\n",
       "<p class=\"email col-span-8\">jamie47@young-golden.com</p>\n",
       "<i class=\"bi bi-telephone-fill text-purple-800\"></i>\n",
       "<p class=\"phone col-span-8\">7959438803</p>\n",
       "</div>\n",
       "<div class=\"address grid grid-cols-9\">\n",
       "<i class=\"bi bi-geo-fill text-purple-800\"></i>\n",
       "<p class=\"col-span-8\">\n",
       "                86310 Powers Mount <br/>\n",
       "                Lopezberg, UT 14336\n",
       "            </p>\n",
       "</div>\n",
       "</div>\n",
       "<div class=\"person border rounded px-3 py-5 grid grid-cols-2 gap-x-3 bg-purple-50 hover:shadow-lg transition duration-500\">\n",
       "<h2 class=\"text-2xl text-purple-800 name col-span-full border-b\">Ashley Holmes</h2>\n",
       "<p class=\"quote col-span-full px-5 py-5 text-center text-gray-500\">\n",
       "            \"Organized zero tolerance paradigm\"\n",
       "        </p>\n",
       "<div class=\"grid grid-cols-9\">\n",
       "<i class=\"bi bi-envelope-fill text-purple-800\"></i>\n",
       "<p class=\"email col-span-8\">espinozamargaret@burnett.com</p>\n",
       "<i class=\"bi bi-telephone-fill text-purple-800\"></i>\n",
       "<p class=\"phone col-span-8\">899-676-0828</p>\n",
       "</div>\n",
       "<div class=\"address grid grid-cols-9\">\n",
       "<i class=\"bi bi-geo-fill text-purple-800\"></i>\n",
       "<p class=\"col-span-8\">\n",
       "                5143 Pratt Mills <br/>\n",
       "                North Charles, RI 16448\n",
       "            </p>\n",
       "</div>\n",
       "</div>\n",
       "</div>\n",
       "</body>\n",
       "</html>"
      ]
     },
     "execution_count": 120,
     "metadata": {},
     "output_type": "execute_result"
    }
   ],
   "source": [
    "#solution from walkthrough\n",
    "response = requests.get('https://web-scraping-demo.zgulde.net/people')\n",
    "soup = bs4.BeautifulSoup(response.text)\n",
    "soup"
   ]
  },
  {
   "cell_type": "code",
   "execution_count": 121,
   "metadata": {},
   "outputs": [],
   "source": [
    "people_div = soup.select('#people')[0]\n",
    "people = people_div.select('.person')"
   ]
  },
  {
   "cell_type": "code",
   "execution_count": 122,
   "metadata": {},
   "outputs": [
    {
     "name": "stdout",
     "output_type": "stream",
     "text": [
      "<div class=\"person border rounded px-3 py-5 grid grid-cols-2 gap-x-3 bg-purple-50 hover:shadow-lg transition duration-500\">\n",
      " <h2 class=\"text-2xl text-purple-800 name col-span-full border-b\">\n",
      "  Dennis Mcmahon\n",
      " </h2>\n",
      " <p class=\"quote col-span-full px-5 py-5 text-center text-gray-500\">\n",
      "  \"Right-sized systemic definition\"\n",
      " </p>\n",
      " <div class=\"grid grid-cols-9\">\n",
      "  <i class=\"bi bi-envelope-fill text-purple-800\">\n",
      "  </i>\n",
      "  <p class=\"email col-span-8\">\n",
      "   kelly14@hotmail.com\n",
      "  </p>\n",
      "  <i class=\"bi bi-telephone-fill text-purple-800\">\n",
      "  </i>\n",
      "  <p class=\"phone col-span-8\">\n",
      "   151.446.9246\n",
      "  </p>\n",
      " </div>\n",
      " <div class=\"address grid grid-cols-9\">\n",
      "  <i class=\"bi bi-geo-fill text-purple-800\">\n",
      "  </i>\n",
      "  <p class=\"col-span-8\">\n",
      "   888 Andrea Junctions\n",
      "   <br/>\n",
      "   North Hayleytown, IA 47016\n",
      "  </p>\n",
      " </div>\n",
      "</div>\n",
      "\n"
     ]
    }
   ],
   "source": [
    "person = people[0]\n",
    "print(person.prettify())"
   ]
  },
  {
   "cell_type": "code",
   "execution_count": 123,
   "metadata": {},
   "outputs": [],
   "source": [
    "def process_person(person):\n",
    "    return {\n",
    "        'name': person.find(class_='name').text,\n",
    "        'quote': person.find(class_='quote').text.strip(),\n",
    "        'email': person.find(class_='email').text,\n",
    "        'phone': person.find(class_='phone').text,\n",
    "        'address': person.find(class_='address').text.strip(),\n",
    "    }"
   ]
  },
  {
   "cell_type": "code",
   "execution_count": 124,
   "metadata": {},
   "outputs": [
    {
     "data": {
      "text/plain": [
       "{'name': 'Nicholas Medina',\n",
       " 'quote': '\"Re-engineered radical open architecture\"',\n",
       " 'email': 'madeline29@marquez.com',\n",
       " 'phone': '753.274.5992x35738',\n",
       " 'address': '5035 Maria Pine \\n                Lake Oliviachester, MO 94597'}"
      ]
     },
     "execution_count": 124,
     "metadata": {},
     "output_type": "execute_result"
    }
   ],
   "source": [
    "process_person(people[3])"
   ]
  },
  {
   "cell_type": "code",
   "execution_count": 127,
   "metadata": {},
   "outputs": [
    {
     "data": {
      "text/html": [
       "<div>\n",
       "<style scoped>\n",
       "    .dataframe tbody tr th:only-of-type {\n",
       "        vertical-align: middle;\n",
       "    }\n",
       "\n",
       "    .dataframe tbody tr th {\n",
       "        vertical-align: top;\n",
       "    }\n",
       "\n",
       "    .dataframe thead th {\n",
       "        text-align: right;\n",
       "    }\n",
       "</style>\n",
       "<table border=\"1\" class=\"dataframe\">\n",
       "  <thead>\n",
       "    <tr style=\"text-align: right;\">\n",
       "      <th></th>\n",
       "      <th>name</th>\n",
       "      <th>quote</th>\n",
       "      <th>email</th>\n",
       "      <th>phone</th>\n",
       "      <th>address</th>\n",
       "    </tr>\n",
       "  </thead>\n",
       "  <tbody>\n",
       "    <tr>\n",
       "      <th>0</th>\n",
       "      <td>Dennis Mcmahon</td>\n",
       "      <td>\"Right-sized systemic definition\"</td>\n",
       "      <td>kelly14@hotmail.com</td>\n",
       "      <td>151.446.9246</td>\n",
       "      <td>888 Andrea Junctions \\n                North H...</td>\n",
       "    </tr>\n",
       "    <tr>\n",
       "      <th>1</th>\n",
       "      <td>Kayla Grant</td>\n",
       "      <td>\"Persistent value-added focus group\"</td>\n",
       "      <td>jacksonmark@hotmail.com</td>\n",
       "      <td>043.171.9253x053</td>\n",
       "      <td>60177 Gloria Harbor \\n                Ayersmou...</td>\n",
       "    </tr>\n",
       "    <tr>\n",
       "      <th>2</th>\n",
       "      <td>Joseph Kim</td>\n",
       "      <td>\"Grass-roots reciprocal intranet\"</td>\n",
       "      <td>tinamack@wallace.com</td>\n",
       "      <td>001-040-827-7230x64133</td>\n",
       "      <td>1145 Brown Mills Apt. 283 \\n                Je...</td>\n",
       "    </tr>\n",
       "    <tr>\n",
       "      <th>3</th>\n",
       "      <td>Nicholas Medina</td>\n",
       "      <td>\"Re-engineered radical open architecture\"</td>\n",
       "      <td>madeline29@marquez.com</td>\n",
       "      <td>753.274.5992x35738</td>\n",
       "      <td>5035 Maria Pine \\n                Lake Oliviac...</td>\n",
       "    </tr>\n",
       "    <tr>\n",
       "      <th>4</th>\n",
       "      <td>Ann Kelly</td>\n",
       "      <td>\"Automated executive help-desk\"</td>\n",
       "      <td>grogers@hotmail.com</td>\n",
       "      <td>1156385171</td>\n",
       "      <td>997 Kelly Crossing Apt. 233 \\n                ...</td>\n",
       "    </tr>\n",
       "    <tr>\n",
       "      <th>5</th>\n",
       "      <td>Suzanne Nunez</td>\n",
       "      <td>\"Customizable next generation customer loyalty\"</td>\n",
       "      <td>pthompson@gmail.com</td>\n",
       "      <td>(606)148-4385</td>\n",
       "      <td>7152 Moore Run \\n                North Marcust...</td>\n",
       "    </tr>\n",
       "    <tr>\n",
       "      <th>6</th>\n",
       "      <td>Christopher Martin</td>\n",
       "      <td>\"Exclusive systemic toolset\"</td>\n",
       "      <td>alejandrostein@yahoo.com</td>\n",
       "      <td>2895916944</td>\n",
       "      <td>18842 Sheila Path Apt. 818 \\n                S...</td>\n",
       "    </tr>\n",
       "    <tr>\n",
       "      <th>7</th>\n",
       "      <td>Paula Jimenez</td>\n",
       "      <td>\"Expanded clear-thinking moderator\"</td>\n",
       "      <td>regina56@rhodes-lyons.info</td>\n",
       "      <td>001-702-073-5056</td>\n",
       "      <td>0460 Sarah Locks \\n                West Stepha...</td>\n",
       "    </tr>\n",
       "    <tr>\n",
       "      <th>8</th>\n",
       "      <td>April West</td>\n",
       "      <td>\"Grass-roots encompassing process improvement\"</td>\n",
       "      <td>jamie47@young-golden.com</td>\n",
       "      <td>7959438803</td>\n",
       "      <td>86310 Powers Mount \\n                Lopezberg...</td>\n",
       "    </tr>\n",
       "    <tr>\n",
       "      <th>9</th>\n",
       "      <td>Ashley Holmes</td>\n",
       "      <td>\"Organized zero tolerance paradigm\"</td>\n",
       "      <td>espinozamargaret@burnett.com</td>\n",
       "      <td>899-676-0828</td>\n",
       "      <td>5143 Pratt Mills \\n                North Charl...</td>\n",
       "    </tr>\n",
       "  </tbody>\n",
       "</table>\n",
       "</div>"
      ],
      "text/plain": [
       "                 name                                            quote  \\\n",
       "0      Dennis Mcmahon                \"Right-sized systemic definition\"   \n",
       "1         Kayla Grant             \"Persistent value-added focus group\"   \n",
       "2          Joseph Kim                \"Grass-roots reciprocal intranet\"   \n",
       "3     Nicholas Medina        \"Re-engineered radical open architecture\"   \n",
       "4           Ann Kelly                  \"Automated executive help-desk\"   \n",
       "5       Suzanne Nunez  \"Customizable next generation customer loyalty\"   \n",
       "6  Christopher Martin                     \"Exclusive systemic toolset\"   \n",
       "7       Paula Jimenez              \"Expanded clear-thinking moderator\"   \n",
       "8          April West   \"Grass-roots encompassing process improvement\"   \n",
       "9       Ashley Holmes              \"Organized zero tolerance paradigm\"   \n",
       "\n",
       "                          email                   phone  \\\n",
       "0           kelly14@hotmail.com            151.446.9246   \n",
       "1       jacksonmark@hotmail.com        043.171.9253x053   \n",
       "2          tinamack@wallace.com  001-040-827-7230x64133   \n",
       "3        madeline29@marquez.com      753.274.5992x35738   \n",
       "4           grogers@hotmail.com              1156385171   \n",
       "5           pthompson@gmail.com           (606)148-4385   \n",
       "6      alejandrostein@yahoo.com              2895916944   \n",
       "7    regina56@rhodes-lyons.info        001-702-073-5056   \n",
       "8      jamie47@young-golden.com              7959438803   \n",
       "9  espinozamargaret@burnett.com            899-676-0828   \n",
       "\n",
       "                                             address  \n",
       "0  888 Andrea Junctions \\n                North H...  \n",
       "1  60177 Gloria Harbor \\n                Ayersmou...  \n",
       "2  1145 Brown Mills Apt. 283 \\n                Je...  \n",
       "3  5035 Maria Pine \\n                Lake Oliviac...  \n",
       "4  997 Kelly Crossing Apt. 233 \\n                ...  \n",
       "5  7152 Moore Run \\n                North Marcust...  \n",
       "6  18842 Sheila Path Apt. 818 \\n                S...  \n",
       "7  0460 Sarah Locks \\n                West Stepha...  \n",
       "8  86310 Powers Mount \\n                Lopezberg...  \n",
       "9  5143 Pratt Mills \\n                North Charl...  "
      ]
     },
     "execution_count": 127,
     "metadata": {},
     "output_type": "execute_result"
    }
   ],
   "source": [
    "pd.DataFrame([process_person(person) for person in people])"
   ]
  }
 ],
 "metadata": {
  "kernelspec": {
   "display_name": "Python 3",
   "language": "python",
   "name": "python3"
  },
  "language_info": {
   "codemirror_mode": {
    "name": "ipython",
    "version": 3
   },
   "file_extension": ".py",
   "mimetype": "text/x-python",
   "name": "python",
   "nbconvert_exporter": "python",
   "pygments_lexer": "ipython3",
   "version": "3.8.5"
  }
 },
 "nbformat": 4,
 "nbformat_minor": 5
}
